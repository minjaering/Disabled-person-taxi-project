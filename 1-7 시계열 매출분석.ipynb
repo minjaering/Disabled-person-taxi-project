{
 "cells": [
  {
   "cell_type": "markdown",
   "id": "ad72a2de-9c5e-4218-8470-9eb2a0d8c7c6",
   "metadata": {},
   "source": [
    "## Setting"
   ]
  },
  {
   "cell_type": "code",
   "execution_count": 1,
   "id": "98eb1167-9367-49d2-81ca-15920f8cd4a0",
   "metadata": {},
   "outputs": [
    {
     "name": "stdout",
     "output_type": "stream",
     "text": [
      "zsh:1: 1.0.1 not found\n",
      "Requirement already satisfied: fbprophet in /Users/minjaering/opt/anaconda3/envs/minjaering/lib/python3.9/site-packages (0.7.1)\n",
      "Requirement already satisfied: matplotlib>=2.0.0 in /Users/minjaering/opt/anaconda3/envs/minjaering/lib/python3.9/site-packages (from fbprophet) (3.5.2)\n",
      "Requirement already satisfied: holidays>=0.10.2 in /Users/minjaering/opt/anaconda3/envs/minjaering/lib/python3.9/site-packages (from fbprophet) (0.14.2)\n",
      "Requirement already satisfied: convertdate>=2.1.2 in /Users/minjaering/opt/anaconda3/envs/minjaering/lib/python3.9/site-packages (from fbprophet) (2.4.0)\n",
      "Requirement already satisfied: LunarCalendar>=0.0.9 in /Users/minjaering/opt/anaconda3/envs/minjaering/lib/python3.9/site-packages (from fbprophet) (0.0.9)\n",
      "Requirement already satisfied: tqdm>=4.36.1 in /Users/minjaering/opt/anaconda3/envs/minjaering/lib/python3.9/site-packages (from fbprophet) (4.64.0)\n",
      "Requirement already satisfied: Cython>=0.22 in /Users/minjaering/opt/anaconda3/envs/minjaering/lib/python3.9/site-packages (from fbprophet) (0.29.30)\n",
      "Collecting cmdstanpy==0.9.5\n",
      "  Using cached cmdstanpy-0.9.5-py3-none-any.whl (37 kB)\n",
      "Requirement already satisfied: pystan>=2.14 in /Users/minjaering/opt/anaconda3/envs/minjaering/lib/python3.9/site-packages (from fbprophet) (2.19.1.1)\n",
      "Requirement already satisfied: setuptools-git>=1.2 in /Users/minjaering/opt/anaconda3/envs/minjaering/lib/python3.9/site-packages (from fbprophet) (1.2)\n",
      "Requirement already satisfied: numpy>=1.15.4 in /Users/minjaering/opt/anaconda3/envs/minjaering/lib/python3.9/site-packages (from fbprophet) (1.23.1)\n",
      "Requirement already satisfied: pandas>=1.0.4 in /Users/minjaering/opt/anaconda3/envs/minjaering/lib/python3.9/site-packages (from fbprophet) (1.4.3)\n",
      "Requirement already satisfied: python-dateutil>=2.8.0 in /Users/minjaering/opt/anaconda3/envs/minjaering/lib/python3.9/site-packages (from fbprophet) (2.8.2)\n",
      "Requirement already satisfied: pymeeus<=1,>=0.3.13 in /Users/minjaering/opt/anaconda3/envs/minjaering/lib/python3.9/site-packages (from convertdate>=2.1.2->fbprophet) (0.5.11)\n",
      "Requirement already satisfied: hijri-converter in /Users/minjaering/opt/anaconda3/envs/minjaering/lib/python3.9/site-packages (from holidays>=0.10.2->fbprophet) (2.2.4)\n",
      "Requirement already satisfied: korean-lunar-calendar in /Users/minjaering/opt/anaconda3/envs/minjaering/lib/python3.9/site-packages (from holidays>=0.10.2->fbprophet) (0.2.1)\n",
      "Requirement already satisfied: ephem>=3.7.5.3 in /Users/minjaering/opt/anaconda3/envs/minjaering/lib/python3.9/site-packages (from LunarCalendar>=0.0.9->fbprophet) (4.1.3)\n",
      "Requirement already satisfied: pytz in /Users/minjaering/opt/anaconda3/envs/minjaering/lib/python3.9/site-packages (from LunarCalendar>=0.0.9->fbprophet) (2022.1)\n",
      "Requirement already satisfied: packaging>=20.0 in /Users/minjaering/opt/anaconda3/envs/minjaering/lib/python3.9/site-packages (from matplotlib>=2.0.0->fbprophet) (21.3)\n",
      "Requirement already satisfied: pyparsing>=2.2.1 in /Users/minjaering/opt/anaconda3/envs/minjaering/lib/python3.9/site-packages (from matplotlib>=2.0.0->fbprophet) (3.0.4)\n",
      "Requirement already satisfied: fonttools>=4.22.0 in /Users/minjaering/opt/anaconda3/envs/minjaering/lib/python3.9/site-packages (from matplotlib>=2.0.0->fbprophet) (4.34.4)\n",
      "Requirement already satisfied: cycler>=0.10 in /Users/minjaering/opt/anaconda3/envs/minjaering/lib/python3.9/site-packages (from matplotlib>=2.0.0->fbprophet) (0.11.0)\n",
      "Requirement already satisfied: pillow>=6.2.0 in /Users/minjaering/opt/anaconda3/envs/minjaering/lib/python3.9/site-packages (from matplotlib>=2.0.0->fbprophet) (9.2.0)\n",
      "Requirement already satisfied: kiwisolver>=1.0.1 in /Users/minjaering/opt/anaconda3/envs/minjaering/lib/python3.9/site-packages (from matplotlib>=2.0.0->fbprophet) (1.4.3)\n",
      "Requirement already satisfied: six>=1.5 in /Users/minjaering/opt/anaconda3/envs/minjaering/lib/python3.9/site-packages (from python-dateutil>=2.8.0->fbprophet) (1.16.0)\n",
      "Installing collected packages: cmdstanpy\n",
      "  Attempting uninstall: cmdstanpy\n",
      "    Found existing installation: cmdstanpy 1.0.4\n",
      "    Uninstalling cmdstanpy-1.0.4:\n",
      "      Successfully uninstalled cmdstanpy-1.0.4\n",
      "\u001b[31mERROR: pip's dependency resolver does not currently take into account all the packages that are installed. This behaviour is the source of the following dependency conflicts.\n",
      "prophet 1.1 requires cmdstanpy>=1.0.1, but you have cmdstanpy 0.9.5 which is incompatible.\u001b[0m\n",
      "Successfully installed cmdstanpy-0.9.5\n"
     ]
    }
   ],
   "source": [
    "!pip install cmdstanpy>=1.0.1\n",
    "!pip install fbprophet"
   ]
  },
  {
   "cell_type": "code",
   "execution_count": 2,
   "id": "5dfef9ce-729f-4b76-90c0-cdd5efb15717",
   "metadata": {},
   "outputs": [
    {
     "name": "stdout",
     "output_type": "stream",
     "text": [
      "Collecting chart_studio\n",
      "  Downloading chart_studio-1.1.0-py3-none-any.whl (64 kB)\n",
      "\u001b[K     |████████████████████████████████| 64 kB 4.9 MB/s eta 0:00:011\n",
      "\u001b[?25hRequirement already satisfied: plotly in /Users/minjaering/opt/anaconda3/envs/minjaering/lib/python3.9/site-packages (from chart_studio) (5.9.0)\n",
      "Requirement already satisfied: six in /Users/minjaering/opt/anaconda3/envs/minjaering/lib/python3.9/site-packages (from chart_studio) (1.16.0)\n",
      "Collecting retrying>=1.3.3\n",
      "  Downloading retrying-1.3.3.tar.gz (10 kB)\n",
      "Requirement already satisfied: requests in /Users/minjaering/opt/anaconda3/envs/minjaering/lib/python3.9/site-packages (from chart_studio) (2.28.0)\n",
      "Requirement already satisfied: tenacity>=6.2.0 in /Users/minjaering/opt/anaconda3/envs/minjaering/lib/python3.9/site-packages (from plotly->chart_studio) (8.0.1)\n",
      "Requirement already satisfied: certifi>=2017.4.17 in /Users/minjaering/opt/anaconda3/envs/minjaering/lib/python3.9/site-packages (from requests->chart_studio) (2022.6.15)\n",
      "Requirement already satisfied: idna<4,>=2.5 in /Users/minjaering/opt/anaconda3/envs/minjaering/lib/python3.9/site-packages (from requests->chart_studio) (3.3)\n",
      "Requirement already satisfied: charset-normalizer~=2.0.0 in /Users/minjaering/opt/anaconda3/envs/minjaering/lib/python3.9/site-packages (from requests->chart_studio) (2.0.12)\n",
      "Requirement already satisfied: urllib3<1.27,>=1.21.1 in /Users/minjaering/opt/anaconda3/envs/minjaering/lib/python3.9/site-packages (from requests->chart_studio) (1.26.9)\n",
      "Building wheels for collected packages: retrying\n",
      "  Building wheel for retrying (setup.py) ... \u001b[?25ldone\n",
      "\u001b[?25h  Created wheel for retrying: filename=retrying-1.3.3-py3-none-any.whl size=11447 sha256=36841056b9e66faca0dec08f22f47d4ce8ddd8a22de472bc8c330668dfbe258b\n",
      "  Stored in directory: /Users/minjaering/Library/Caches/pip/wheels/ce/18/7f/e9527e3e66db1456194ac7f61eb3211068c409edceecff2d31\n",
      "Successfully built retrying\n",
      "Installing collected packages: retrying, chart-studio\n",
      "Successfully installed chart-studio-1.1.0 retrying-1.3.3\n"
     ]
    }
   ],
   "source": [
    "!pip install chart_studio"
   ]
  },
  {
   "cell_type": "code",
   "execution_count": 3,
   "id": "95d2c5f9-a318-453c-9b79-794860278575",
   "metadata": {},
   "outputs": [],
   "source": [
    "import numpy as np\n",
    "import chart_studio"
   ]
  },
  {
   "cell_type": "code",
   "execution_count": 4,
   "id": "502037ba-4169-4786-8118-dcbe5b66e674",
   "metadata": {},
   "outputs": [],
   "source": [
    "chart_studio.tools.set_credentials_file(username = 'username', api_key = 'api_key')"
   ]
  },
  {
   "cell_type": "code",
   "execution_count": 5,
   "id": "87c97fdc-0615-46f0-b4c3-2c06da0eea13",
   "metadata": {},
   "outputs": [],
   "source": [
    "import pandas as pd\n",
    "import io\n",
    "import plotly.graph_objects as go\n",
    "from fbprophet import Prophet\n",
    "from fbprophet.plot import plot_plotly, add_changepoints_to_plot\n",
    "from plotly.offline import iplot, init_notebook_mode"
   ]
  },
  {
   "cell_type": "markdown",
   "id": "2a59a628-f736-4951-b0bc-0cfcc51b4ca2",
   "metadata": {},
   "source": [
    "[분석루틴]\n",
    "1. 원데이터 시각화로 확인\n",
    "(▲위 시각화 보고 계절성 or 패턴의 반복이 많이 보인다면)\n",
    "2. 분산안정화 & 1차-12차 차분(미분인것같습니다..) 후\n",
    "3. acf(자기상관)결과 & 백색잡음결과를 확인 후\n",
    ": 유의확률(p-값) 이 0.05이하인지 확인 -> 이상이라면 2번째 과정을 계속반복한다)\n",
    "--------------------------------------------------------------------\n",
    "4. Arima 모형(다른 모형도 다시도) 적합성 판단 하며 결론내고 끝."
   ]
  },
  {
   "cell_type": "code",
   "execution_count": null,
   "id": "94e1102b-66b1-4fe8-9318-f530680b099f",
   "metadata": {},
   "outputs": [],
   "source": []
  }
 ],
 "metadata": {
  "kernelspec": {
   "display_name": "Python 3 (ipykernel)",
   "language": "python",
   "name": "python3"
  },
  "language_info": {
   "codemirror_mode": {
    "name": "ipython",
    "version": 3
   },
   "file_extension": ".py",
   "mimetype": "text/x-python",
   "name": "python",
   "nbconvert_exporter": "python",
   "pygments_lexer": "ipython3",
   "version": "3.9.12"
  }
 },
 "nbformat": 4,
 "nbformat_minor": 5
}
