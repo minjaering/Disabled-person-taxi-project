{
 "cells": [
  {
   "cell_type": "markdown",
   "id": "ad72a2de-9c5e-4218-8470-9eb2a0d8c7c6",
   "metadata": {},
   "source": [
    "## Setting"
   ]
  },
  {
   "cell_type": "code",
   "execution_count": 12,
   "id": "98eb1167-9367-49d2-81ca-15920f8cd4a0",
   "metadata": {},
   "outputs": [],
   "source": [
    "import pandas as pd\n",
    "import numpy as np\n",
    "\n",
    "import seaborn as sns\n",
    "import matplotlib.pyplot as plt\n",
    "from plotly.offline import init_notebook_mode\n",
    "import datetime \n"
   ]
  },
  {
   "cell_type": "code",
   "execution_count": 14,
   "id": "aa5893bd-96c1-49f8-96cc-2841f49e1d12",
   "metadata": {},
   "outputs": [
    {
     "ename": "ModuleNotFoundError",
     "evalue": "No module named 'fbprophet'",
     "output_type": "error",
     "traceback": [
      "\u001b[0;31m---------------------------------------------------------------------------\u001b[0m",
      "\u001b[0;31mModuleNotFoundError\u001b[0m                       Traceback (most recent call last)",
      "Input \u001b[0;32mIn [14]\u001b[0m, in \u001b[0;36m<cell line: 1>\u001b[0;34m()\u001b[0m\n\u001b[0;32m----> 1\u001b[0m \u001b[38;5;28;01mfrom\u001b[39;00m \u001b[38;5;21;01mfbprophet\u001b[39;00m \u001b[38;5;28;01mimport\u001b[39;00m prophet\n",
      "\u001b[0;31mModuleNotFoundError\u001b[0m: No module named 'fbprophet'"
     ]
    }
   ],
   "source": [
    "from fbprophet import Prophet #왜안돼에ㅔㅔㅔㅔㅔㅔㅔㅔㅔ!!!!!!장난하냐!!!!"
   ]
  },
  {
   "cell_type": "markdown",
   "id": "2a59a628-f736-4951-b0bc-0cfcc51b4ca2",
   "metadata": {},
   "source": [
    "[분석루틴]\n",
    "1. 원데이터 시각화로 확인\n",
    "(▲위 시각화 보고 계절성 or 패턴의 반복이 많이 보인다면)\n",
    "2. 분산안정화 & 1차-12차 차분(미분인것같습니다..) 후\n",
    "3. acf(자기상관)결과 & 백색잡음결과를 확인 후\n",
    ": 유의확률(p-값) 이 0.05이하인지 확인 -> 이상이라면 2번째 과정을 계속반복한다)\n",
    "--------------------------------------------------------------------\n",
    "4. Arima 모형(다른 모형도 다시도) 적합성 판단 하며 결론내고 끝."
   ]
  },
  {
   "cell_type": "code",
   "execution_count": null,
   "id": "763cfb88-c35e-4557-b396-3735ac44b9cf",
   "metadata": {},
   "outputs": [],
   "source": []
  }
 ],
 "metadata": {
  "kernelspec": {
   "display_name": "Python 3 (ipykernel)",
   "language": "python",
   "name": "python3"
  },
  "language_info": {
   "codemirror_mode": {
    "name": "ipython",
    "version": 3
   },
   "file_extension": ".py",
   "mimetype": "text/x-python",
   "name": "python",
   "nbconvert_exporter": "python",
   "pygments_lexer": "ipython3",
   "version": "3.9.12"
  }
 },
 "nbformat": 4,
 "nbformat_minor": 5
}
