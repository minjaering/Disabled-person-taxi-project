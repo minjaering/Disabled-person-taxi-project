{
 "cells": [
  {
   "cell_type": "code",
   "execution_count": null,
   "id": "12188189-89d2-42d3-b0c1-d5c4698e3707",
   "metadata": {},
   "outputs": [],
   "source": [
    "할고양"
   ]
  }
 ],
 "metadata": {
  "kernelspec": {
   "display_name": "Python 3 (ipykernel)",
   "language": "python",
   "name": "python3"
  },
  "language_info": {
   "codemirror_mode": {
    "name": "ipython",
    "version": 3
   },
   "file_extension": ".py",
   "mimetype": "text/x-python",
   "name": "python",
   "nbconvert_exporter": "python",
   "pygments_lexer": "ipython3",
   "version": "3.9.12"
  }
 },
 "nbformat": 4,
 "nbformat_minor": 5
}
