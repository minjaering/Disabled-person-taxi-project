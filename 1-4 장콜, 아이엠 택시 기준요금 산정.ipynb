{
 "cells": [
  {
   "cell_type": "markdown",
   "id": "99dbb663-4434-4f25-90b0-bec3618d30ee",
   "metadata": {},
   "source": [
    "## Setting"
   ]
  },
  {
   "cell_type": "code",
   "execution_count": 125,
   "id": "2a773574-7ec2-4f19-a975-4b4600779bfb",
   "metadata": {},
   "outputs": [],
   "source": [
    "import pandas as pd\n",
    "import numpy as np\n",
    "import datetime \n",
    "import seaborn as sns\n",
    "import glob"
   ]
  },
  {
   "cell_type": "code",
   "execution_count": 126,
   "id": "45d44000-6a43-4600-a7ea-32b93d23d0eb",
   "metadata": {},
   "outputs": [
    {
     "data": {
      "text/html": [
       "<div>\n",
       "<style scoped>\n",
       "    .dataframe tbody tr th:only-of-type {\n",
       "        vertical-align: middle;\n",
       "    }\n",
       "\n",
       "    .dataframe tbody tr th {\n",
       "        vertical-align: top;\n",
       "    }\n",
       "\n",
       "    .dataframe thead th {\n",
       "        text-align: right;\n",
       "    }\n",
       "</style>\n",
       "<table border=\"1\" class=\"dataframe\">\n",
       "  <thead>\n",
       "    <tr style=\"text-align: right;\">\n",
       "      <th></th>\n",
       "      <th>cartype</th>\n",
       "      <th>예정시간</th>\n",
       "      <th>배차시간</th>\n",
       "      <th>승차시간</th>\n",
       "      <th>startpos1</th>\n",
       "      <th>startpos2</th>\n",
       "      <th>endpos1</th>\n",
       "      <th>endpos2</th>\n",
       "      <th>start_lat</th>\n",
       "      <th>start_lng</th>\n",
       "      <th>end_lat</th>\n",
       "      <th>end_lng</th>\n",
       "      <th>direction</th>\n",
       "      <th>distance</th>\n",
       "      <th>duration</th>\n",
       "      <th>taxiFare</th>\n",
       "    </tr>\n",
       "  </thead>\n",
       "  <tbody>\n",
       "    <tr>\n",
       "      <th>0</th>\n",
       "      <td>중형승합</td>\n",
       "      <td>2018-01-23 00:04:00</td>\n",
       "      <td>2018-01-23 00:18:42</td>\n",
       "      <td>2018-01-23 00:34:08</td>\n",
       "      <td>성북구</td>\n",
       "      <td>장위제1동</td>\n",
       "      <td>동대문구</td>\n",
       "      <td>회기동</td>\n",
       "      <td>127.043713</td>\n",
       "      <td>37.614125</td>\n",
       "      <td>127.055313</td>\n",
       "      <td>37.590808</td>\n",
       "      <td>장위제1동회기동</td>\n",
       "      <td>4289</td>\n",
       "      <td>648.464</td>\n",
       "      <td>5600</td>\n",
       "    </tr>\n",
       "    <tr>\n",
       "      <th>1</th>\n",
       "      <td>중형승합</td>\n",
       "      <td>2018-01-23 00:17:00</td>\n",
       "      <td>2018-01-23 00:50:37</td>\n",
       "      <td>2018-01-23 01:19:22</td>\n",
       "      <td>중랑구</td>\n",
       "      <td>면목제7동</td>\n",
       "      <td>노원구</td>\n",
       "      <td>상계1동</td>\n",
       "      <td>127.086985</td>\n",
       "      <td>37.578995</td>\n",
       "      <td>127.054978</td>\n",
       "      <td>37.679901</td>\n",
       "      <td>면목제7동상계1동</td>\n",
       "      <td>14493</td>\n",
       "      <td>1318.675</td>\n",
       "      <td>13700</td>\n",
       "    </tr>\n",
       "    <tr>\n",
       "      <th>2</th>\n",
       "      <td>중형승합</td>\n",
       "      <td>2018-01-23 00:30:00</td>\n",
       "      <td>2018-01-23 00:17:06</td>\n",
       "      <td>2018-01-23 00:17:39</td>\n",
       "      <td>성북구</td>\n",
       "      <td>정릉제3동</td>\n",
       "      <td>강북구</td>\n",
       "      <td>수유제3동</td>\n",
       "      <td>127.004186</td>\n",
       "      <td>37.608958</td>\n",
       "      <td>127.023125</td>\n",
       "      <td>37.638715</td>\n",
       "      <td>정릉제3동수유제3동</td>\n",
       "      <td>4869</td>\n",
       "      <td>864.161</td>\n",
       "      <td>6200</td>\n",
       "    </tr>\n",
       "    <tr>\n",
       "      <th>3</th>\n",
       "      <td>중형승합</td>\n",
       "      <td>2018-01-23 00:47:00</td>\n",
       "      <td>2018-01-23 00:51:19</td>\n",
       "      <td>2018-01-23 01:09:33</td>\n",
       "      <td>구로구</td>\n",
       "      <td>고척제2동</td>\n",
       "      <td>관악구</td>\n",
       "      <td>은천동</td>\n",
       "      <td>126.858712</td>\n",
       "      <td>37.506706</td>\n",
       "      <td>126.942428</td>\n",
       "      <td>37.485309</td>\n",
       "      <td>고척제2동은천동</td>\n",
       "      <td>10247</td>\n",
       "      <td>1652.785</td>\n",
       "      <td>11000</td>\n",
       "    </tr>\n",
       "    <tr>\n",
       "      <th>4</th>\n",
       "      <td>중형승합</td>\n",
       "      <td>2018-01-23 01:08:00</td>\n",
       "      <td>2018-01-23 01:44:17</td>\n",
       "      <td>2018-01-23 02:06:53</td>\n",
       "      <td>동대문구</td>\n",
       "      <td>회기동</td>\n",
       "      <td>성북구</td>\n",
       "      <td>장위제2동</td>\n",
       "      <td>127.055313</td>\n",
       "      <td>37.590808</td>\n",
       "      <td>127.054521</td>\n",
       "      <td>37.612390</td>\n",
       "      <td>회기동장위제2동</td>\n",
       "      <td>3778</td>\n",
       "      <td>598.639</td>\n",
       "      <td>5200</td>\n",
       "    </tr>\n",
       "  </tbody>\n",
       "</table>\n",
       "</div>"
      ],
      "text/plain": [
       "  cartype                 예정시간                 배차시간                 승차시간  \\\n",
       "0    중형승합  2018-01-23 00:04:00  2018-01-23 00:18:42  2018-01-23 00:34:08   \n",
       "1    중형승합  2018-01-23 00:17:00  2018-01-23 00:50:37  2018-01-23 01:19:22   \n",
       "2    중형승합  2018-01-23 00:30:00  2018-01-23 00:17:06  2018-01-23 00:17:39   \n",
       "3    중형승합  2018-01-23 00:47:00  2018-01-23 00:51:19  2018-01-23 01:09:33   \n",
       "4    중형승합  2018-01-23 01:08:00  2018-01-23 01:44:17  2018-01-23 02:06:53   \n",
       "\n",
       "  startpos1 startpos2 endpos1 endpos2   start_lat  start_lng     end_lat  \\\n",
       "0       성북구     장위제1동    동대문구     회기동  127.043713  37.614125  127.055313   \n",
       "1       중랑구     면목제7동     노원구    상계1동  127.086985  37.578995  127.054978   \n",
       "2       성북구     정릉제3동     강북구   수유제3동  127.004186  37.608958  127.023125   \n",
       "3       구로구     고척제2동     관악구     은천동  126.858712  37.506706  126.942428   \n",
       "4      동대문구       회기동     성북구   장위제2동  127.055313  37.590808  127.054521   \n",
       "\n",
       "     end_lng   direction  distance  duration  taxiFare  \n",
       "0  37.590808    장위제1동회기동      4289   648.464      5600  \n",
       "1  37.679901   면목제7동상계1동     14493  1318.675     13700  \n",
       "2  37.638715  정릉제3동수유제3동      4869   864.161      6200  \n",
       "3  37.485309    고척제2동은천동     10247  1652.785     11000  \n",
       "4  37.612390    회기동장위제2동      3778   598.639      5200  "
      ]
     },
     "execution_count": 126,
     "metadata": {},
     "output_type": "execute_result"
    }
   ],
   "source": [
    "df= pd.read_csv('master_final_220706.csv')\n",
    "df= df.drop(columns=\"Unnamed: 0\",axis=1)\n",
    "df.head()"
   ]
  },
  {
   "cell_type": "code",
   "execution_count": 127,
   "id": "948f20ad-b750-448b-ba3b-e5a53e23c09a",
   "metadata": {},
   "outputs": [
    {
     "data": {
      "text/plain": [
       "(407553, 16)"
      ]
     },
     "execution_count": 127,
     "metadata": {},
     "output_type": "execute_result"
    }
   ],
   "source": [
    "df.shape"
   ]
  },
  {
   "cell_type": "code",
   "execution_count": 128,
   "id": "e549af79-7758-4c62-b99f-94fdb046c71e",
   "metadata": {},
   "outputs": [
    {
     "name": "stdout",
     "output_type": "stream",
     "text": [
      "<class 'pandas.core.frame.DataFrame'>\n",
      "RangeIndex: 407553 entries, 0 to 407552\n",
      "Data columns (total 16 columns):\n",
      " #   Column     Non-Null Count   Dtype  \n",
      "---  ------     --------------   -----  \n",
      " 0   cartype    407553 non-null  object \n",
      " 1   예정시간       407553 non-null  object \n",
      " 2   배차시간       407553 non-null  object \n",
      " 3   승차시간       407553 non-null  object \n",
      " 4   startpos1  407553 non-null  object \n",
      " 5   startpos2  407553 non-null  object \n",
      " 6   endpos1    407553 non-null  object \n",
      " 7   endpos2    407553 non-null  object \n",
      " 8   start_lat  407553 non-null  float64\n",
      " 9   start_lng  407553 non-null  float64\n",
      " 10  end_lat    407553 non-null  float64\n",
      " 11  end_lng    407553 non-null  float64\n",
      " 12  direction  407553 non-null  object \n",
      " 13  distance   407553 non-null  int64  \n",
      " 14  duration   407553 non-null  float64\n",
      " 15  taxiFare   407553 non-null  int64  \n",
      "dtypes: float64(5), int64(2), object(9)\n",
      "memory usage: 49.8+ MB\n"
     ]
    }
   ],
   "source": [
    "df.info()"
   ]
  },
  {
   "cell_type": "code",
   "execution_count": 129,
   "id": "f6ef8a93-4428-47e5-b3a9-e45b3b5d6dbf",
   "metadata": {},
   "outputs": [
    {
     "data": {
      "text/html": [
       "<div>\n",
       "<style scoped>\n",
       "    .dataframe tbody tr th:only-of-type {\n",
       "        vertical-align: middle;\n",
       "    }\n",
       "\n",
       "    .dataframe tbody tr th {\n",
       "        vertical-align: top;\n",
       "    }\n",
       "\n",
       "    .dataframe thead th {\n",
       "        text-align: right;\n",
       "    }\n",
       "</style>\n",
       "<table border=\"1\" class=\"dataframe\">\n",
       "  <thead>\n",
       "    <tr style=\"text-align: right;\">\n",
       "      <th></th>\n",
       "      <th>distance</th>\n",
       "      <th>duration</th>\n",
       "      <th>taxiFare</th>\n",
       "    </tr>\n",
       "  </thead>\n",
       "  <tbody>\n",
       "    <tr>\n",
       "      <th>count</th>\n",
       "      <td>407553.000000</td>\n",
       "      <td>407553.000000</td>\n",
       "      <td>407553.000000</td>\n",
       "    </tr>\n",
       "    <tr>\n",
       "      <th>mean</th>\n",
       "      <td>11227.803434</td>\n",
       "      <td>1427.078149</td>\n",
       "      <td>12017.347412</td>\n",
       "    </tr>\n",
       "    <tr>\n",
       "      <th>std</th>\n",
       "      <td>9384.646511</td>\n",
       "      <td>957.381900</td>\n",
       "      <td>8368.638228</td>\n",
       "    </tr>\n",
       "    <tr>\n",
       "      <th>min</th>\n",
       "      <td>205.000000</td>\n",
       "      <td>43.601000</td>\n",
       "      <td>0.000000</td>\n",
       "    </tr>\n",
       "    <tr>\n",
       "      <th>25%</th>\n",
       "      <td>4117.000000</td>\n",
       "      <td>679.163000</td>\n",
       "      <td>5730.000000</td>\n",
       "    </tr>\n",
       "    <tr>\n",
       "      <th>50%</th>\n",
       "      <td>8085.000000</td>\n",
       "      <td>1194.102000</td>\n",
       "      <td>9500.000000</td>\n",
       "    </tr>\n",
       "    <tr>\n",
       "      <th>75%</th>\n",
       "      <td>16139.000000</td>\n",
       "      <td>1918.202000</td>\n",
       "      <td>16300.000000</td>\n",
       "    </tr>\n",
       "    <tr>\n",
       "      <th>max</th>\n",
       "      <td>84449.000000</td>\n",
       "      <td>6880.172000</td>\n",
       "      <td>103750.000000</td>\n",
       "    </tr>\n",
       "  </tbody>\n",
       "</table>\n",
       "</div>"
      ],
      "text/plain": [
       "            distance       duration       taxiFare\n",
       "count  407553.000000  407553.000000  407553.000000\n",
       "mean    11227.803434    1427.078149   12017.347412\n",
       "std      9384.646511     957.381900    8368.638228\n",
       "min       205.000000      43.601000       0.000000\n",
       "25%      4117.000000     679.163000    5730.000000\n",
       "50%      8085.000000    1194.102000    9500.000000\n",
       "75%     16139.000000    1918.202000   16300.000000\n",
       "max     84449.000000    6880.172000  103750.000000"
      ]
     },
     "execution_count": 129,
     "metadata": {},
     "output_type": "execute_result"
    }
   ],
   "source": [
    "df[['distance','duration','taxiFare']].describe()"
   ]
  },
  {
   "cell_type": "markdown",
   "id": "d15a21c2-a37e-4d3a-b428-94d28cd163e3",
   "metadata": {},
   "source": [
    "### 아이엠 콜택시 요금 산정\n",
    "- 기본요금: 1000m(1km) 4000원 | 심야: 5000원 \n",
    "- 거리요금: 120m(0.12km) 당 100원 \n",
    "- 시간요금: 30초(0.5분) 당 100원 \n",
    "- 기타요금: 시간거리와 완전 동시 병산▼\n",
    "1) 심야할증 : 40% (0-4시)\n",
    "2) 탄력요금제 : 0.8~4배 적용 -- 심야할증과 중복적용, 플랫폼 호출 고객 한정\n",
    "3) 호출수수료 : 0~3000원"
   ]
  },
  {
   "cell_type": "code",
   "execution_count": 130,
   "id": "1266beae-7bf2-4349-bec8-e09aff63130c",
   "metadata": {},
   "outputs": [],
   "source": [
    "# 기본요금을 구합니다."
   ]
  },
  {
   "cell_type": "code",
   "execution_count": 131,
   "id": "2b8e1fd8-e43b-440c-a8fe-0a597f149e5c",
   "metadata": {},
   "outputs": [
    {
     "data": {
      "text/plain": [
       "array([ 0,  1,  2,  3,  4,  5,  6,  7,  8,  9, 10, 11, 12, 13, 14, 15, 23])"
      ]
     },
     "execution_count": 131,
     "metadata": {},
     "output_type": "execute_result"
    }
   ],
   "source": [
    "df[\"승차시간\"]=pd.to_datetime(df[\"승차시간\"])\n",
    "df['승차시간_h'] = df['승차시간'].dt.hour\n",
    "df['승차시간_h'].sort_values().unique()"
   ]
  },
  {
   "cell_type": "code",
   "execution_count": 132,
   "id": "f23ab066-d9fc-4600-9b24-2829417e4210",
   "metadata": {},
   "outputs": [
    {
     "name": "stdout",
     "output_type": "stream",
     "text": [
      "CPU times: user 1.67 s, sys: 4.78 ms, total: 1.68 s\n",
      "Wall time: 1.68 s\n"
     ]
    }
   ],
   "source": [
    "%%time \n",
    "기본_val = []\n",
    "\n",
    "for i in range(len(df)):\n",
    "    if df['승차시간_h'][i] in (0,1,2,3,4): ##심야시간 지정\n",
    "        기본_cal = 5000\n",
    "        기본_val.append(기본_cal) \n",
    "    else:\n",
    "        기본_cal = 4000\n",
    "        기본_val.append(기본_cal)\n",
    "        \n",
    "df['기본요금_아'] = 기본_val"
   ]
  },
  {
   "cell_type": "code",
   "execution_count": 133,
   "id": "1412ac39-8862-415a-9b5e-bbe51e6bd3e9",
   "metadata": {},
   "outputs": [],
   "source": [
    "# 거리요금을 구합니다↓.--기본단위:m"
   ]
  },
  {
   "cell_type": "code",
   "execution_count": 134,
   "id": "19bd64f8-26c7-4e34-bb57-9a496c571b78",
   "metadata": {},
   "outputs": [
    {
     "name": "stdout",
     "output_type": "stream",
     "text": [
      "CPU times: user 2.91 s, sys: 7.34 ms, total: 2.92 s\n",
      "Wall time: 2.92 s\n"
     ]
    }
   ],
   "source": [
    "%%time \n",
    "거리_val = []\n",
    "\n",
    "for i in range(len(df)):\n",
    "    if df['distance'][i]>1000:\n",
    "        거리_cal = ((df['distance'][i]-1000)/120)*100\n",
    "        거리_val.append(거리_cal)\n",
    "    else:\n",
    "        거리_val.append(0)\n",
    "        \n",
    "df['거리요금_아'] = 거리_val"
   ]
  },
  {
   "cell_type": "code",
   "execution_count": 135,
   "id": "0e74c237-afab-42e6-9403-8c0f59ae043e",
   "metadata": {},
   "outputs": [],
   "source": [
    "# 시간요금을 구합니다↓.--기본단위:초 "
   ]
  },
  {
   "cell_type": "code",
   "execution_count": 136,
   "id": "d213b1f3-a76d-4420-aff3-19393e8f2b97",
   "metadata": {},
   "outputs": [
    {
     "name": "stdout",
     "output_type": "stream",
     "text": [
      "CPU times: user 2.92 s, sys: 6.28 ms, total: 2.92 s\n",
      "Wall time: 2.92 s\n"
     ]
    }
   ],
   "source": [
    "%%time \n",
    "시간_val = []\n",
    "\n",
    "for i in range(len(df)):\n",
    "    if df['duration'][i]>240: ##1Km 4분 제외한 추가 시간요금 구하기\n",
    "        시간_cal = ((df['duration'][i]-240)/30)*100\n",
    "        시간_val.append(시간_cal)\n",
    "    else:\n",
    "        시간_val.append(0)\n",
    "        \n",
    "df['시간요금_아'] = 시간_val"
   ]
  },
  {
   "cell_type": "code",
   "execution_count": 138,
   "id": "5dc7e3bd-299f-479f-98fe-b5925ef874eb",
   "metadata": {},
   "outputs": [
    {
     "data": {
      "text/html": [
       "<div>\n",
       "<style scoped>\n",
       "    .dataframe tbody tr th:only-of-type {\n",
       "        vertical-align: middle;\n",
       "    }\n",
       "\n",
       "    .dataframe tbody tr th {\n",
       "        vertical-align: top;\n",
       "    }\n",
       "\n",
       "    .dataframe thead th {\n",
       "        text-align: right;\n",
       "    }\n",
       "</style>\n",
       "<table border=\"1\" class=\"dataframe\">\n",
       "  <thead>\n",
       "    <tr style=\"text-align: right;\">\n",
       "      <th></th>\n",
       "      <th>distance</th>\n",
       "      <th>duration</th>\n",
       "      <th>taxiFare</th>\n",
       "      <th>승차시간_h</th>\n",
       "      <th>기본요금_아</th>\n",
       "      <th>거리요금_아</th>\n",
       "      <th>시간요금_아</th>\n",
       "    </tr>\n",
       "  </thead>\n",
       "  <tbody>\n",
       "    <tr>\n",
       "      <th>0</th>\n",
       "      <td>4289</td>\n",
       "      <td>648.464</td>\n",
       "      <td>5600</td>\n",
       "      <td>0</td>\n",
       "      <td>5000</td>\n",
       "      <td>2740.833333</td>\n",
       "      <td>1361.546667</td>\n",
       "    </tr>\n",
       "    <tr>\n",
       "      <th>1</th>\n",
       "      <td>14493</td>\n",
       "      <td>1318.675</td>\n",
       "      <td>13700</td>\n",
       "      <td>1</td>\n",
       "      <td>5000</td>\n",
       "      <td>11244.166667</td>\n",
       "      <td>3595.583333</td>\n",
       "    </tr>\n",
       "    <tr>\n",
       "      <th>2</th>\n",
       "      <td>4869</td>\n",
       "      <td>864.161</td>\n",
       "      <td>6200</td>\n",
       "      <td>0</td>\n",
       "      <td>5000</td>\n",
       "      <td>3224.166667</td>\n",
       "      <td>2080.536667</td>\n",
       "    </tr>\n",
       "    <tr>\n",
       "      <th>3</th>\n",
       "      <td>10247</td>\n",
       "      <td>1652.785</td>\n",
       "      <td>11000</td>\n",
       "      <td>1</td>\n",
       "      <td>5000</td>\n",
       "      <td>7705.833333</td>\n",
       "      <td>4709.283333</td>\n",
       "    </tr>\n",
       "    <tr>\n",
       "      <th>4</th>\n",
       "      <td>3778</td>\n",
       "      <td>598.639</td>\n",
       "      <td>5200</td>\n",
       "      <td>2</td>\n",
       "      <td>5000</td>\n",
       "      <td>2315.000000</td>\n",
       "      <td>1195.463333</td>\n",
       "    </tr>\n",
       "  </tbody>\n",
       "</table>\n",
       "</div>"
      ],
      "text/plain": [
       "   distance  duration  taxiFare  승차시간_h  기본요금_아        거리요금_아       시간요금_아\n",
       "0      4289   648.464      5600       0    5000   2740.833333  1361.546667\n",
       "1     14493  1318.675     13700       1    5000  11244.166667  3595.583333\n",
       "2      4869   864.161      6200       0    5000   3224.166667  2080.536667\n",
       "3     10247  1652.785     11000       1    5000   7705.833333  4709.283333\n",
       "4      3778   598.639      5200       2    5000   2315.000000  1195.463333"
      ]
     },
     "execution_count": 138,
     "metadata": {},
     "output_type": "execute_result"
    }
   ],
   "source": [
    "df.iloc[:,-7:].head()"
   ]
  },
  {
   "cell_type": "code",
   "execution_count": 137,
   "id": "5d8e61ca-eef2-42da-ac55-b1ea67d376f0",
   "metadata": {},
   "outputs": [
    {
     "data": {
      "text/html": [
       "<div>\n",
       "<style scoped>\n",
       "    .dataframe tbody tr th:only-of-type {\n",
       "        vertical-align: middle;\n",
       "    }\n",
       "\n",
       "    .dataframe tbody tr th {\n",
       "        vertical-align: top;\n",
       "    }\n",
       "\n",
       "    .dataframe thead th {\n",
       "        text-align: right;\n",
       "    }\n",
       "</style>\n",
       "<table border=\"1\" class=\"dataframe\">\n",
       "  <thead>\n",
       "    <tr style=\"text-align: right;\">\n",
       "      <th></th>\n",
       "      <th>distance</th>\n",
       "      <th>duration</th>\n",
       "      <th>taxiFare</th>\n",
       "      <th>승차시간_h</th>\n",
       "      <th>기본요금_아</th>\n",
       "      <th>거리요금_아</th>\n",
       "      <th>시간요금_아</th>\n",
       "    </tr>\n",
       "  </thead>\n",
       "  <tbody>\n",
       "    <tr>\n",
       "      <th>17</th>\n",
       "      <td>1000</td>\n",
       "      <td>240.0</td>\n",
       "      <td>0</td>\n",
       "      <td>3</td>\n",
       "      <td>5000</td>\n",
       "      <td>0.0</td>\n",
       "      <td>0.0</td>\n",
       "    </tr>\n",
       "    <tr>\n",
       "      <th>35</th>\n",
       "      <td>1000</td>\n",
       "      <td>240.0</td>\n",
       "      <td>0</td>\n",
       "      <td>5</td>\n",
       "      <td>4000</td>\n",
       "      <td>0.0</td>\n",
       "      <td>0.0</td>\n",
       "    </tr>\n",
       "    <tr>\n",
       "      <th>234</th>\n",
       "      <td>1000</td>\n",
       "      <td>240.0</td>\n",
       "      <td>0</td>\n",
       "      <td>7</td>\n",
       "      <td>4000</td>\n",
       "      <td>0.0</td>\n",
       "      <td>0.0</td>\n",
       "    </tr>\n",
       "    <tr>\n",
       "      <th>301</th>\n",
       "      <td>1000</td>\n",
       "      <td>240.0</td>\n",
       "      <td>0</td>\n",
       "      <td>7</td>\n",
       "      <td>4000</td>\n",
       "      <td>0.0</td>\n",
       "      <td>0.0</td>\n",
       "    </tr>\n",
       "    <tr>\n",
       "      <th>361</th>\n",
       "      <td>1000</td>\n",
       "      <td>240.0</td>\n",
       "      <td>0</td>\n",
       "      <td>7</td>\n",
       "      <td>4000</td>\n",
       "      <td>0.0</td>\n",
       "      <td>0.0</td>\n",
       "    </tr>\n",
       "  </tbody>\n",
       "</table>\n",
       "</div>"
      ],
      "text/plain": [
       "     distance  duration  taxiFare  승차시간_h  기본요금_아  거리요금_아  시간요금_아\n",
       "17       1000     240.0         0       3    5000     0.0     0.0\n",
       "35       1000     240.0         0       5    4000     0.0     0.0\n",
       "234      1000     240.0         0       7    4000     0.0     0.0\n",
       "301      1000     240.0         0       7    4000     0.0     0.0\n",
       "361      1000     240.0         0       7    4000     0.0     0.0"
      ]
     },
     "execution_count": 137,
     "metadata": {},
     "output_type": "execute_result"
    }
   ],
   "source": [
    "df[df['taxiFare']==0].iloc[:,-7:].head() ##거리가 1Km일떄 taxiFare=0-> 기본요금만 받는다."
   ]
  },
  {
   "cell_type": "code",
   "execution_count": 122,
   "id": "eb70e0af-dddf-4eb6-b191-372c10fe8e6d",
   "metadata": {},
   "outputs": [],
   "source": [
    "# 기타요금을 구합니다↓"
   ]
  },
  {
   "cell_type": "code",
   "execution_count": 123,
   "id": "8bb33ddf-537c-4a66-8646-861174cd4189",
   "metadata": {},
   "outputs": [],
   "source": [
    "from datetime import datetime,timedelta"
   ]
  },
  {
   "cell_type": "code",
   "execution_count": 124,
   "id": "30ed5ab8-591f-4c21-ba98-a5394a18cec5",
   "metadata": {},
   "outputs": [],
   "source": [
    "#2) 탄력요금제는 수요에 따라 유동적으로 변환되는거라 정확한 기준 잡기 불가능. 탄력요금제 : 0.8~4배 적용 -- 심야할증과 중복적용, 플랫폼 호출 고객 한정\n",
    "#3) 호출수수료 : 앱호출 경우 3000원"
   ]
  },
  {
   "cell_type": "markdown",
   "id": "fcc719c6-0fb4-4f37-9b01-a39049281970",
   "metadata": {},
   "source": [
    "### 서울시 장애인 콜택시 요금 산정\n",
    "- 기본요금: 5000m(5km) 1500원  \n",
    "- 거리요금: 1000m(1km) 당 280원 | 10000m(10Km) 도달시 2900원 -> 10km 초과시: 1000m(1km) 당 70원\n",
    "- 시간요금: x\n",
    "- 기타요금: 지역간 할증x"
   ]
  },
  {
   "cell_type": "code",
   "execution_count": null,
   "id": "75d10041-e8af-4567-aff9-c392c1307dc5",
   "metadata": {},
   "outputs": [],
   "source": []
  },
  {
   "cell_type": "code",
   "execution_count": null,
   "id": "00b36ef7-5667-4265-855e-71861a918689",
   "metadata": {},
   "outputs": [],
   "source": []
  }
 ],
 "metadata": {
  "kernelspec": {
   "display_name": "Python 3 (ipykernel)",
   "language": "python",
   "name": "python3"
  },
  "language_info": {
   "codemirror_mode": {
    "name": "ipython",
    "version": 3
   },
   "file_extension": ".py",
   "mimetype": "text/x-python",
   "name": "python",
   "nbconvert_exporter": "python",
   "pygments_lexer": "ipython3",
   "version": "3.9.12"
  }
 },
 "nbformat": 4,
 "nbformat_minor": 5
}
