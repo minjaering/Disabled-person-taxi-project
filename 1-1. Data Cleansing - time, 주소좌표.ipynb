{
 "cells": [
  {
   "cell_type": "markdown",
   "id": "2e68e31f-b9dd-4233-b9ef-baf70f8b2747",
   "metadata": {},
   "source": [
    "## Setting\n",
    "- master1_cleansing_map_before.csv 을 이용해 추가 클린징 진행\n",
    "- 위 파일 배포자 참고▼   https://github.com/eeuunnzzyy/eeuunnzzyy/blob/main/The%20Transportation%20Vulnerable%20Project/000%20Dailydata%20Cleansing%20%26%20EDA.ipynb"
   ]
  },
  {
   "cell_type": "markdown",
   "id": "ce37c255-f030-4e48-b134-2417af6150f6",
   "metadata": {},
   "source": [
    "## 1. 3가지 차이 시간 칼럼 생성"
   ]
  },
  {
   "cell_type": "markdown",
   "id": "a52aa0f4-9356-4b21-958d-2432c4eaa28a",
   "metadata": {},
   "source": [
    " ## 2. 좌표(위도,경도) 칼럼생성"
   ]
  },
  {
   "cell_type": "markdown",
   "id": "fae89278-7c0a-4e07-b5e8-53f526dc6f02",
   "metadata": {},
   "source": [
    "#"
   ]
  }
 ],
 "metadata": {
  "kernelspec": {
   "display_name": "Python 3 (ipykernel)",
   "language": "python",
   "name": "python3"
  },
  "language_info": {
   "codemirror_mode": {
    "name": "ipython",
    "version": 3
   },
   "file_extension": ".py",
   "mimetype": "text/x-python",
   "name": "python",
   "nbconvert_exporter": "python",
   "pygments_lexer": "ipython3",
   "version": "3.9.12"
  }
 },
 "nbformat": 4,
 "nbformat_minor": 5
}
