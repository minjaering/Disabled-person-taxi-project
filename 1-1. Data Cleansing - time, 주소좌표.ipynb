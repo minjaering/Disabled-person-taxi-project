{
 "cells": [
  {
   "cell_type": "markdown",
   "id": "2e68e31f-b9dd-4233-b9ef-baf70f8b2747",
   "metadata": {
    "tags": []
   },
   "source": [
    "## Setting\n",
    "- master1_cleansing_map_before.csv 을 이용해 추가 클린징 진행\n",
    "- 위 파일 배포자 참고▼   https://github.com/eeuunnzzyy/eeuunnzzyy/blob/main/The%20Transportation%20Vulnerable%20Project/000%20Dailydata%20Cleansing%20%26%20EDA.ipynb"
   ]
  },
  {
   "cell_type": "code",
   "execution_count": 89,
   "id": "86b8c857-7c12-4daf-817e-38e176f77ab8",
   "metadata": {},
   "outputs": [],
   "source": [
    "import pandas as pd\n",
    "import numpy as np\n",
    "import datetime \n",
    "import seaborn as sns\n",
    "import glob"
   ]
  },
  {
   "cell_type": "code",
   "execution_count": 90,
   "id": "550fcf00-3a6f-40a1-bf01-ac78d8d47786",
   "metadata": {},
   "outputs": [
    {
     "data": {
      "text/plain": [
       "['./data/master_cleansing_space_time.csv',\n",
       " './data/master.csv',\n",
       " './data/master1_cleansing_map_before.csv']"
      ]
     },
     "execution_count": 90,
     "metadata": {},
     "output_type": "execute_result"
    }
   ],
   "source": [
    "paths = glob.glob('./data/*.csv')\n",
    "paths"
   ]
  },
  {
   "cell_type": "code",
   "execution_count": 91,
   "id": "ebc81409-2c64-4af6-accc-6fb6e0696ba5",
   "metadata": {},
   "outputs": [
    {
     "data": {
      "text/plain": [
       "'./data/master1_cleansing_map_before.csv'"
      ]
     },
     "execution_count": 91,
     "metadata": {},
     "output_type": "execute_result"
    }
   ],
   "source": [
    "paths[2]"
   ]
  },
  {
   "cell_type": "code",
   "execution_count": 92,
   "id": "965fdd15-f6a4-4dab-b66b-afec0f2db16e",
   "metadata": {},
   "outputs": [
    {
     "data": {
      "text/html": [
       "<div>\n",
       "<style scoped>\n",
       "    .dataframe tbody tr th:only-of-type {\n",
       "        vertical-align: middle;\n",
       "    }\n",
       "\n",
       "    .dataframe tbody tr th {\n",
       "        vertical-align: top;\n",
       "    }\n",
       "\n",
       "    .dataframe thead th {\n",
       "        text-align: right;\n",
       "    }\n",
       "</style>\n",
       "<table border=\"1\" class=\"dataframe\">\n",
       "  <thead>\n",
       "    <tr style=\"text-align: right;\">\n",
       "      <th></th>\n",
       "      <th>no</th>\n",
       "      <th>cartype</th>\n",
       "      <th>예정시간</th>\n",
       "      <th>배차시간</th>\n",
       "      <th>승차시간</th>\n",
       "      <th>startpos1</th>\n",
       "      <th>startpos2</th>\n",
       "      <th>endpos1</th>\n",
       "      <th>endpos2</th>\n",
       "    </tr>\n",
       "  </thead>\n",
       "  <tbody>\n",
       "    <tr>\n",
       "      <th>0</th>\n",
       "      <td>7658</td>\n",
       "      <td>중형승합</td>\n",
       "      <td>2018-01-23 12:04:00</td>\n",
       "      <td>2018-01-23 12:18:42</td>\n",
       "      <td>2018-01-23 12:34:08</td>\n",
       "      <td>성북구</td>\n",
       "      <td>장위제1동</td>\n",
       "      <td>동대문구</td>\n",
       "      <td>회기동</td>\n",
       "    </tr>\n",
       "    <tr>\n",
       "      <th>1</th>\n",
       "      <td>1551</td>\n",
       "      <td>중형승합</td>\n",
       "      <td>2018-01-23 12:17:00</td>\n",
       "      <td>2018-01-23 12:50:37</td>\n",
       "      <td>2018-01-23 01:19:22</td>\n",
       "      <td>중랑구</td>\n",
       "      <td>면목제7동</td>\n",
       "      <td>노원구</td>\n",
       "      <td>상계1동</td>\n",
       "    </tr>\n",
       "    <tr>\n",
       "      <th>2</th>\n",
       "      <td>5804</td>\n",
       "      <td>중형승합</td>\n",
       "      <td>2018-01-23 12:30:00</td>\n",
       "      <td>2018-01-23 12:17:06</td>\n",
       "      <td>2018-01-23 12:17:39</td>\n",
       "      <td>성북구</td>\n",
       "      <td>정릉제3동</td>\n",
       "      <td>강북구</td>\n",
       "      <td>수유제3동</td>\n",
       "    </tr>\n",
       "    <tr>\n",
       "      <th>3</th>\n",
       "      <td>7650</td>\n",
       "      <td>중형승합</td>\n",
       "      <td>2018-01-23 12:47:00</td>\n",
       "      <td>2018-01-23 12:51:19</td>\n",
       "      <td>2018-01-23 01:09:33</td>\n",
       "      <td>구로구</td>\n",
       "      <td>고척제2동</td>\n",
       "      <td>관악구</td>\n",
       "      <td>은천동</td>\n",
       "    </tr>\n",
       "    <tr>\n",
       "      <th>4</th>\n",
       "      <td>1061</td>\n",
       "      <td>중형승합</td>\n",
       "      <td>2018-01-23 01:08:00</td>\n",
       "      <td>2018-01-23 01:44:17</td>\n",
       "      <td>2018-01-23 02:06:53</td>\n",
       "      <td>동대문구</td>\n",
       "      <td>회기동</td>\n",
       "      <td>성북구</td>\n",
       "      <td>장위제2동</td>\n",
       "    </tr>\n",
       "  </tbody>\n",
       "</table>\n",
       "</div>"
      ],
      "text/plain": [
       "     no cartype                 예정시간                 배차시간  \\\n",
       "0  7658    중형승합  2018-01-23 12:04:00  2018-01-23 12:18:42   \n",
       "1  1551    중형승합  2018-01-23 12:17:00  2018-01-23 12:50:37   \n",
       "2  5804    중형승합  2018-01-23 12:30:00  2018-01-23 12:17:06   \n",
       "3  7650    중형승합  2018-01-23 12:47:00  2018-01-23 12:51:19   \n",
       "4  1061    중형승합  2018-01-23 01:08:00  2018-01-23 01:44:17   \n",
       "\n",
       "                  승차시간 startpos1 startpos2 endpos1 endpos2  \n",
       "0  2018-01-23 12:34:08       성북구     장위제1동    동대문구     회기동  \n",
       "1  2018-01-23 01:19:22       중랑구     면목제7동     노원구    상계1동  \n",
       "2  2018-01-23 12:17:39       성북구     정릉제3동     강북구   수유제3동  \n",
       "3  2018-01-23 01:09:33       구로구     고척제2동     관악구     은천동  \n",
       "4  2018-01-23 02:06:53      동대문구       회기동     성북구   장위제2동  "
      ]
     },
     "execution_count": 92,
     "metadata": {},
     "output_type": "execute_result"
    }
   ],
   "source": [
    "df = pd.read_csv(paths[2])\n",
    "df.head()"
   ]
  },
  {
   "cell_type": "code",
   "execution_count": 93,
   "id": "676b1abf-6458-427c-b41b-fa63dc85646d",
   "metadata": {},
   "outputs": [
    {
     "name": "stdout",
     "output_type": "stream",
     "text": [
      "<class 'pandas.core.frame.DataFrame'>\n",
      "RangeIndex: 407553 entries, 0 to 407552\n",
      "Data columns (total 9 columns):\n",
      " #   Column     Non-Null Count   Dtype \n",
      "---  ------     --------------   ----- \n",
      " 0   no         407553 non-null  int64 \n",
      " 1   cartype    407553 non-null  object\n",
      " 2   예정시간       407553 non-null  object\n",
      " 3   배차시간       407553 non-null  object\n",
      " 4   승차시간       407553 non-null  object\n",
      " 5   startpos1  407553 non-null  object\n",
      " 6   startpos2  407553 non-null  object\n",
      " 7   endpos1    407553 non-null  object\n",
      " 8   endpos2    407553 non-null  object\n",
      "dtypes: int64(1), object(8)\n",
      "memory usage: 28.0+ MB\n"
     ]
    }
   ],
   "source": [
    "df.info()"
   ]
  },
  {
   "cell_type": "code",
   "execution_count": 94,
   "id": "b5f4317b-4320-4b80-956d-0837bb1d65c8",
   "metadata": {},
   "outputs": [
    {
     "data": {
      "text/plain": [
       "(407553, 9)"
      ]
     },
     "execution_count": 94,
     "metadata": {},
     "output_type": "execute_result"
    }
   ],
   "source": [
    "df.shape"
   ]
  },
  {
   "cell_type": "markdown",
   "id": "ce37c255-f030-4e48-b134-2417af6150f6",
   "metadata": {},
   "source": [
    "## 1. 3가지 차이 시간 칼럼 생성"
   ]
  },
  {
   "cell_type": "code",
   "execution_count": 136,
   "id": "1d1d697c-a999-445b-9816-820d0731d72e",
   "metadata": {},
   "outputs": [],
   "source": [
    "import time\n",
    "# from datetime import datetime\n",
    "import datetime"
   ]
  },
  {
   "cell_type": "markdown",
   "id": "3c158a77-c219-4896-8f80-ca35e4880768",
   "metadata": {
    "tags": []
   },
   "source": [
    "### '배차-예정'"
   ]
  },
  {
   "cell_type": "code",
   "execution_count": 96,
   "id": "433bb564-ee83-4985-9bde-fc8fd885b873",
   "metadata": {},
   "outputs": [
    {
     "name": "stdout",
     "output_type": "stream",
     "text": [
      "CPU times: user 8.13 s, sys: 16.8 ms, total: 8.15 s\n",
      "Wall time: 8.15 s\n"
     ]
    }
   ],
   "source": [
    "%%time\n",
    "\n",
    "배차예정_val = []\n",
    "for i in range(len(df)):\n",
    "    time_1 = datetime.strptime(df['예정시간'][i],\"%Y-%m-%d %H:%M:%S\")\n",
    "    time_2 = datetime.strptime(df['배차시간'][i],\"%Y-%m-%d %H:%M:%S\")\n",
    "    time_interval = time_2 - time_1\n",
    "    배차예정_val.append(time_interval)\n",
    "    \n",
    "##날짜와 시간(datetime)을 문자열로 출력하려면 strftime\n",
    "##날짜와 시간 형식의 문자열을 datetime으로 변환하려면 strptime을 사용하면 된다"
   ]
  },
  {
   "cell_type": "code",
   "execution_count": 97,
   "id": "5ac52247-b425-46a0-874b-0e3b6d727eb0",
   "metadata": {},
   "outputs": [],
   "source": [
    "df['배차-예정'] = 배차예정_val"
   ]
  },
  {
   "cell_type": "markdown",
   "id": "a425dfc9-5469-4992-b417-1160afbf50d9",
   "metadata": {},
   "source": [
    "### '승차-배차'"
   ]
  },
  {
   "cell_type": "code",
   "execution_count": 98,
   "id": "e350e6a1-c1da-4585-b58f-8a005d99547b",
   "metadata": {},
   "outputs": [
    {
     "name": "stdout",
     "output_type": "stream",
     "text": [
      "CPU times: user 8.12 s, sys: 12.7 ms, total: 8.13 s\n",
      "Wall time: 8.13 s\n"
     ]
    }
   ],
   "source": [
    "%%time\n",
    "\n",
    "승차배차_val = []\n",
    "for i in range(len(df)):\n",
    "    time_1 = datetime.strptime(df['배차시간'][i],\"%Y-%m-%d %H:%M:%S\")\n",
    "    time_2 = datetime.strptime(df['승차시간'][i],\"%Y-%m-%d %H:%M:%S\")\n",
    "    time_interval = time_2 - time_1\n",
    "    승차배차_val.append(time_interval)"
   ]
  },
  {
   "cell_type": "code",
   "execution_count": 99,
   "id": "c4a544fc-3dd3-4989-8342-76d5c490c356",
   "metadata": {},
   "outputs": [],
   "source": [
    "df['승차-배차'] = 승차배차_val"
   ]
  },
  {
   "cell_type": "markdown",
   "id": "8bf2b782-fe70-4118-82d4-083a1250a0df",
   "metadata": {},
   "source": [
    "### '승차-예정'"
   ]
  },
  {
   "cell_type": "code",
   "execution_count": 100,
   "id": "fc79ed02-9a03-4228-bbf2-dd89f84bf157",
   "metadata": {},
   "outputs": [
    {
     "name": "stdout",
     "output_type": "stream",
     "text": [
      "CPU times: user 8.06 s, sys: 10.7 ms, total: 8.07 s\n",
      "Wall time: 8.07 s\n"
     ]
    }
   ],
   "source": [
    "%%time\n",
    "\n",
    "승차예정_val = []\n",
    "for i in range(len(df)):\n",
    "    time_1 = datetime.strptime(df['예정시간'][i],\"%Y-%m-%d %H:%M:%S\")\n",
    "    time_2 = datetime.strptime(df['승차시간'][i],\"%Y-%m-%d %H:%M:%S\")\n",
    "    time_interval = time_2 - time_1\n",
    "    승차예정_val.append(time_interval)"
   ]
  },
  {
   "cell_type": "code",
   "execution_count": 101,
   "id": "7a1f6c2a-dd96-477f-bac0-2bf94e6a2bd9",
   "metadata": {},
   "outputs": [],
   "source": [
    "df['승차-예정'] = 승차예정_val"
   ]
  },
  {
   "cell_type": "code",
   "execution_count": 102,
   "id": "fa08dab2-806b-4149-b1f4-b8c451495032",
   "metadata": {},
   "outputs": [
    {
     "data": {
      "text/html": [
       "<div>\n",
       "<style scoped>\n",
       "    .dataframe tbody tr th:only-of-type {\n",
       "        vertical-align: middle;\n",
       "    }\n",
       "\n",
       "    .dataframe tbody tr th {\n",
       "        vertical-align: top;\n",
       "    }\n",
       "\n",
       "    .dataframe thead th {\n",
       "        text-align: right;\n",
       "    }\n",
       "</style>\n",
       "<table border=\"1\" class=\"dataframe\">\n",
       "  <thead>\n",
       "    <tr style=\"text-align: right;\">\n",
       "      <th></th>\n",
       "      <th>no</th>\n",
       "      <th>cartype</th>\n",
       "      <th>예정시간</th>\n",
       "      <th>배차시간</th>\n",
       "      <th>승차시간</th>\n",
       "      <th>startpos1</th>\n",
       "      <th>startpos2</th>\n",
       "      <th>endpos1</th>\n",
       "      <th>endpos2</th>\n",
       "      <th>배차-예정</th>\n",
       "      <th>승차-배차</th>\n",
       "      <th>승차-예정</th>\n",
       "    </tr>\n",
       "  </thead>\n",
       "  <tbody>\n",
       "    <tr>\n",
       "      <th>0</th>\n",
       "      <td>7658</td>\n",
       "      <td>중형승합</td>\n",
       "      <td>2018-01-23 12:04:00</td>\n",
       "      <td>2018-01-23 12:18:42</td>\n",
       "      <td>2018-01-23 12:34:08</td>\n",
       "      <td>성북구</td>\n",
       "      <td>장위제1동</td>\n",
       "      <td>동대문구</td>\n",
       "      <td>회기동</td>\n",
       "      <td>0 days 00:14:42</td>\n",
       "      <td>0 days 00:15:26</td>\n",
       "      <td>0 days 00:30:08</td>\n",
       "    </tr>\n",
       "    <tr>\n",
       "      <th>1</th>\n",
       "      <td>1551</td>\n",
       "      <td>중형승합</td>\n",
       "      <td>2018-01-23 12:17:00</td>\n",
       "      <td>2018-01-23 12:50:37</td>\n",
       "      <td>2018-01-23 01:19:22</td>\n",
       "      <td>중랑구</td>\n",
       "      <td>면목제7동</td>\n",
       "      <td>노원구</td>\n",
       "      <td>상계1동</td>\n",
       "      <td>0 days 00:33:37</td>\n",
       "      <td>-1 days +12:28:45</td>\n",
       "      <td>-1 days +13:02:22</td>\n",
       "    </tr>\n",
       "    <tr>\n",
       "      <th>2</th>\n",
       "      <td>5804</td>\n",
       "      <td>중형승합</td>\n",
       "      <td>2018-01-23 12:30:00</td>\n",
       "      <td>2018-01-23 12:17:06</td>\n",
       "      <td>2018-01-23 12:17:39</td>\n",
       "      <td>성북구</td>\n",
       "      <td>정릉제3동</td>\n",
       "      <td>강북구</td>\n",
       "      <td>수유제3동</td>\n",
       "      <td>-1 days +23:47:06</td>\n",
       "      <td>0 days 00:00:33</td>\n",
       "      <td>-1 days +23:47:39</td>\n",
       "    </tr>\n",
       "    <tr>\n",
       "      <th>3</th>\n",
       "      <td>7650</td>\n",
       "      <td>중형승합</td>\n",
       "      <td>2018-01-23 12:47:00</td>\n",
       "      <td>2018-01-23 12:51:19</td>\n",
       "      <td>2018-01-23 01:09:33</td>\n",
       "      <td>구로구</td>\n",
       "      <td>고척제2동</td>\n",
       "      <td>관악구</td>\n",
       "      <td>은천동</td>\n",
       "      <td>0 days 00:04:19</td>\n",
       "      <td>-1 days +12:18:14</td>\n",
       "      <td>-1 days +12:22:33</td>\n",
       "    </tr>\n",
       "    <tr>\n",
       "      <th>4</th>\n",
       "      <td>1061</td>\n",
       "      <td>중형승합</td>\n",
       "      <td>2018-01-23 01:08:00</td>\n",
       "      <td>2018-01-23 01:44:17</td>\n",
       "      <td>2018-01-23 02:06:53</td>\n",
       "      <td>동대문구</td>\n",
       "      <td>회기동</td>\n",
       "      <td>성북구</td>\n",
       "      <td>장위제2동</td>\n",
       "      <td>0 days 00:36:17</td>\n",
       "      <td>0 days 00:22:36</td>\n",
       "      <td>0 days 00:58:53</td>\n",
       "    </tr>\n",
       "  </tbody>\n",
       "</table>\n",
       "</div>"
      ],
      "text/plain": [
       "     no cartype                 예정시간                 배차시간  \\\n",
       "0  7658    중형승합  2018-01-23 12:04:00  2018-01-23 12:18:42   \n",
       "1  1551    중형승합  2018-01-23 12:17:00  2018-01-23 12:50:37   \n",
       "2  5804    중형승합  2018-01-23 12:30:00  2018-01-23 12:17:06   \n",
       "3  7650    중형승합  2018-01-23 12:47:00  2018-01-23 12:51:19   \n",
       "4  1061    중형승합  2018-01-23 01:08:00  2018-01-23 01:44:17   \n",
       "\n",
       "                  승차시간 startpos1 startpos2 endpos1 endpos2             배차-예정  \\\n",
       "0  2018-01-23 12:34:08       성북구     장위제1동    동대문구     회기동   0 days 00:14:42   \n",
       "1  2018-01-23 01:19:22       중랑구     면목제7동     노원구    상계1동   0 days 00:33:37   \n",
       "2  2018-01-23 12:17:39       성북구     정릉제3동     강북구   수유제3동 -1 days +23:47:06   \n",
       "3  2018-01-23 01:09:33       구로구     고척제2동     관악구     은천동   0 days 00:04:19   \n",
       "4  2018-01-23 02:06:53      동대문구       회기동     성북구   장위제2동   0 days 00:36:17   \n",
       "\n",
       "              승차-배차             승차-예정  \n",
       "0   0 days 00:15:26   0 days 00:30:08  \n",
       "1 -1 days +12:28:45 -1 days +13:02:22  \n",
       "2   0 days 00:00:33 -1 days +23:47:39  \n",
       "3 -1 days +12:18:14 -1 days +12:22:33  \n",
       "4   0 days 00:22:36   0 days 00:58:53  "
      ]
     },
     "execution_count": 102,
     "metadata": {},
     "output_type": "execute_result"
    }
   ],
   "source": [
    "df.head()"
   ]
  },
  {
   "cell_type": "markdown",
   "id": "fcfa2cb0-7018-4682-b6a0-4d27d351eab6",
   "metadata": {},
   "source": [
    "### -1 days 점검"
   ]
  },
  {
   "cell_type": "code",
   "execution_count": 107,
   "id": "d1bf3df2-a309-49d5-aaa6-6f39d4c5c4d8",
   "metadata": {},
   "outputs": [
    {
     "name": "stdout",
     "output_type": "stream",
     "text": [
      "CPU times: user 4.74 s, sys: 12.9 ms, total: 4.76 s\n",
      "Wall time: 4.76 s\n"
     ]
    }
   ],
   "source": [
    "%%time\n",
    "\n",
    "배차예정2 = []\n",
    "for i in range(len(df)):\n",
    "    배차예정2.append(str(df['배차-예정'][i]))"
   ]
  },
  {
   "cell_type": "code",
   "execution_count": 108,
   "id": "a91477a6-306c-41c7-bd33-3ff7e3c4159a",
   "metadata": {},
   "outputs": [],
   "source": [
    "df['배차-예정2']=배차예정2"
   ]
  },
  {
   "cell_type": "code",
   "execution_count": 117,
   "id": "97aa9842-bb77-4bed-a9f9-c8c9b7ccd8a9",
   "metadata": {},
   "outputs": [
    {
     "data": {
      "text/html": [
       "<div>\n",
       "<style scoped>\n",
       "    .dataframe tbody tr th:only-of-type {\n",
       "        vertical-align: middle;\n",
       "    }\n",
       "\n",
       "    .dataframe tbody tr th {\n",
       "        vertical-align: top;\n",
       "    }\n",
       "\n",
       "    .dataframe thead th {\n",
       "        text-align: right;\n",
       "    }\n",
       "</style>\n",
       "<table border=\"1\" class=\"dataframe\">\n",
       "  <thead>\n",
       "    <tr style=\"text-align: right;\">\n",
       "      <th></th>\n",
       "      <th>no</th>\n",
       "      <th>cartype</th>\n",
       "      <th>예정시간</th>\n",
       "      <th>배차시간</th>\n",
       "      <th>승차시간</th>\n",
       "      <th>startpos1</th>\n",
       "      <th>startpos2</th>\n",
       "      <th>endpos1</th>\n",
       "      <th>endpos2</th>\n",
       "      <th>배차-예정</th>\n",
       "      <th>승차-배차</th>\n",
       "      <th>승차-예정</th>\n",
       "      <th>배차-예정2</th>\n",
       "    </tr>\n",
       "  </thead>\n",
       "  <tbody>\n",
       "    <tr>\n",
       "      <th>2</th>\n",
       "      <td>5804</td>\n",
       "      <td>중형승합</td>\n",
       "      <td>2018-01-23 12:30:00</td>\n",
       "      <td>2018-01-23 12:17:06</td>\n",
       "      <td>2018-01-23 12:17:39</td>\n",
       "      <td>성북구</td>\n",
       "      <td>정릉제3동</td>\n",
       "      <td>강북구</td>\n",
       "      <td>수유제3동</td>\n",
       "      <td>-1 days +23:47:06</td>\n",
       "      <td>0 days 00:00:33</td>\n",
       "      <td>-1 days +23:47:39</td>\n",
       "      <td>-1 days +23:47:06</td>\n",
       "    </tr>\n",
       "    <tr>\n",
       "      <th>25</th>\n",
       "      <td>9568</td>\n",
       "      <td>중형승합</td>\n",
       "      <td>2018-01-23 04:30:00</td>\n",
       "      <td>2018-01-23 04:00:59</td>\n",
       "      <td>2018-01-23 04:47:02</td>\n",
       "      <td>구로구</td>\n",
       "      <td>오류제1동</td>\n",
       "      <td>영등포구</td>\n",
       "      <td>대림제3동</td>\n",
       "      <td>-1 days +23:30:59</td>\n",
       "      <td>0 days 00:46:03</td>\n",
       "      <td>0 days 00:17:02</td>\n",
       "      <td>-1 days +23:30:59</td>\n",
       "    </tr>\n",
       "    <tr>\n",
       "      <th>27</th>\n",
       "      <td>7819</td>\n",
       "      <td>중형승합</td>\n",
       "      <td>2018-01-23 04:40:00</td>\n",
       "      <td>2018-01-23 04:02:59</td>\n",
       "      <td>2018-01-23 04:43:09</td>\n",
       "      <td>종로구</td>\n",
       "      <td>부암동</td>\n",
       "      <td>종로구</td>\n",
       "      <td>창신제1동</td>\n",
       "      <td>-1 days +23:22:59</td>\n",
       "      <td>0 days 00:40:10</td>\n",
       "      <td>0 days 00:03:09</td>\n",
       "      <td>-1 days +23:22:59</td>\n",
       "    </tr>\n",
       "    <tr>\n",
       "      <th>28</th>\n",
       "      <td>1061</td>\n",
       "      <td>중형승합</td>\n",
       "      <td>2018-01-23 04:40:00</td>\n",
       "      <td>2018-01-23 03:57:30</td>\n",
       "      <td>2018-01-23 04:44:27</td>\n",
       "      <td>송파구</td>\n",
       "      <td>장지동</td>\n",
       "      <td>강동구</td>\n",
       "      <td>명일제1동</td>\n",
       "      <td>-1 days +23:17:30</td>\n",
       "      <td>0 days 00:46:57</td>\n",
       "      <td>0 days 00:04:27</td>\n",
       "      <td>-1 days +23:17:30</td>\n",
       "    </tr>\n",
       "    <tr>\n",
       "      <th>30</th>\n",
       "      <td>5804</td>\n",
       "      <td>중형승합</td>\n",
       "      <td>2018-01-23 05:00:00</td>\n",
       "      <td>2018-01-23 04:32:36</td>\n",
       "      <td>2018-01-23 04:56:19</td>\n",
       "      <td>성북구</td>\n",
       "      <td>종암동</td>\n",
       "      <td>종로구</td>\n",
       "      <td>청운효자동</td>\n",
       "      <td>-1 days +23:32:36</td>\n",
       "      <td>0 days 00:23:43</td>\n",
       "      <td>-1 days +23:56:19</td>\n",
       "      <td>-1 days +23:32:36</td>\n",
       "    </tr>\n",
       "    <tr>\n",
       "      <th>...</th>\n",
       "      <td>...</td>\n",
       "      <td>...</td>\n",
       "      <td>...</td>\n",
       "      <td>...</td>\n",
       "      <td>...</td>\n",
       "      <td>...</td>\n",
       "      <td>...</td>\n",
       "      <td>...</td>\n",
       "      <td>...</td>\n",
       "      <td>...</td>\n",
       "      <td>...</td>\n",
       "      <td>...</td>\n",
       "      <td>...</td>\n",
       "    </tr>\n",
       "    <tr>\n",
       "      <th>407506</th>\n",
       "      <td>5829</td>\n",
       "      <td>중형승용</td>\n",
       "      <td>2022-06-24 07:00:00</td>\n",
       "      <td>2022-06-24 06:35:46</td>\n",
       "      <td>2022-06-24 08:12:29</td>\n",
       "      <td>성동구</td>\n",
       "      <td>마장동</td>\n",
       "      <td>서초구</td>\n",
       "      <td>서초1동</td>\n",
       "      <td>-1 days +23:35:46</td>\n",
       "      <td>0 days 01:36:43</td>\n",
       "      <td>0 days 01:12:29</td>\n",
       "      <td>-1 days +23:35:46</td>\n",
       "    </tr>\n",
       "    <tr>\n",
       "      <th>407509</th>\n",
       "      <td>8143</td>\n",
       "      <td>중형승합</td>\n",
       "      <td>2022-06-24 07:00:00</td>\n",
       "      <td>2022-06-24 06:19:36</td>\n",
       "      <td>2022-06-24 07:25:45</td>\n",
       "      <td>관악구</td>\n",
       "      <td>낙성대동</td>\n",
       "      <td>서초구</td>\n",
       "      <td>반포4동</td>\n",
       "      <td>-1 days +23:19:36</td>\n",
       "      <td>0 days 01:06:09</td>\n",
       "      <td>0 days 00:25:45</td>\n",
       "      <td>-1 days +23:19:36</td>\n",
       "    </tr>\n",
       "    <tr>\n",
       "      <th>407511</th>\n",
       "      <td>8167</td>\n",
       "      <td>중형승합</td>\n",
       "      <td>2022-06-24 07:00:00</td>\n",
       "      <td>2022-06-24 06:40:43</td>\n",
       "      <td>2022-06-24 07:20:49</td>\n",
       "      <td>강서구</td>\n",
       "      <td>화곡제4동</td>\n",
       "      <td>구로구</td>\n",
       "      <td>수궁동</td>\n",
       "      <td>-1 days +23:40:43</td>\n",
       "      <td>0 days 00:40:06</td>\n",
       "      <td>0 days 00:20:49</td>\n",
       "      <td>-1 days +23:40:43</td>\n",
       "    </tr>\n",
       "    <tr>\n",
       "      <th>407523</th>\n",
       "      <td>1921</td>\n",
       "      <td>중형승용</td>\n",
       "      <td>2022-06-24 07:00:00</td>\n",
       "      <td>2022-06-24 06:28:40</td>\n",
       "      <td>2022-06-24 07:30:24</td>\n",
       "      <td>강서구</td>\n",
       "      <td>화곡본동</td>\n",
       "      <td>강남구</td>\n",
       "      <td>청담동</td>\n",
       "      <td>-1 days +23:28:40</td>\n",
       "      <td>0 days 01:01:44</td>\n",
       "      <td>0 days 00:30:24</td>\n",
       "      <td>-1 days +23:28:40</td>\n",
       "    </tr>\n",
       "    <tr>\n",
       "      <th>407540</th>\n",
       "      <td>3573</td>\n",
       "      <td>중형승합</td>\n",
       "      <td>2022-06-24 07:00:00</td>\n",
       "      <td>2022-06-24 06:50:17</td>\n",
       "      <td>2022-06-24 07:41:09</td>\n",
       "      <td>광진구</td>\n",
       "      <td>구의제3동</td>\n",
       "      <td>남양주시</td>\n",
       "      <td>오남읍</td>\n",
       "      <td>-1 days +23:50:17</td>\n",
       "      <td>0 days 00:50:52</td>\n",
       "      <td>0 days 00:41:09</td>\n",
       "      <td>-1 days +23:50:17</td>\n",
       "    </tr>\n",
       "  </tbody>\n",
       "</table>\n",
       "<p>37987 rows × 13 columns</p>\n",
       "</div>"
      ],
      "text/plain": [
       "          no cartype                 예정시간                 배차시간  \\\n",
       "2       5804    중형승합  2018-01-23 12:30:00  2018-01-23 12:17:06   \n",
       "25      9568    중형승합  2018-01-23 04:30:00  2018-01-23 04:00:59   \n",
       "27      7819    중형승합  2018-01-23 04:40:00  2018-01-23 04:02:59   \n",
       "28      1061    중형승합  2018-01-23 04:40:00  2018-01-23 03:57:30   \n",
       "30      5804    중형승합  2018-01-23 05:00:00  2018-01-23 04:32:36   \n",
       "...      ...     ...                  ...                  ...   \n",
       "407506  5829    중형승용  2022-06-24 07:00:00  2022-06-24 06:35:46   \n",
       "407509  8143    중형승합  2022-06-24 07:00:00  2022-06-24 06:19:36   \n",
       "407511  8167    중형승합  2022-06-24 07:00:00  2022-06-24 06:40:43   \n",
       "407523  1921    중형승용  2022-06-24 07:00:00  2022-06-24 06:28:40   \n",
       "407540  3573    중형승합  2022-06-24 07:00:00  2022-06-24 06:50:17   \n",
       "\n",
       "                       승차시간 startpos1 startpos2 endpos1 endpos2  \\\n",
       "2       2018-01-23 12:17:39       성북구     정릉제3동     강북구   수유제3동   \n",
       "25      2018-01-23 04:47:02       구로구     오류제1동    영등포구   대림제3동   \n",
       "27      2018-01-23 04:43:09       종로구       부암동     종로구   창신제1동   \n",
       "28      2018-01-23 04:44:27       송파구       장지동     강동구   명일제1동   \n",
       "30      2018-01-23 04:56:19       성북구       종암동     종로구   청운효자동   \n",
       "...                     ...       ...       ...     ...     ...   \n",
       "407506  2022-06-24 08:12:29       성동구       마장동     서초구    서초1동   \n",
       "407509  2022-06-24 07:25:45       관악구      낙성대동     서초구    반포4동   \n",
       "407511  2022-06-24 07:20:49       강서구     화곡제4동     구로구     수궁동   \n",
       "407523  2022-06-24 07:30:24       강서구      화곡본동     강남구     청담동   \n",
       "407540  2022-06-24 07:41:09       광진구     구의제3동    남양주시     오남읍   \n",
       "\n",
       "                   배차-예정           승차-배차             승차-예정             배차-예정2  \n",
       "2      -1 days +23:47:06 0 days 00:00:33 -1 days +23:47:39  -1 days +23:47:06  \n",
       "25     -1 days +23:30:59 0 days 00:46:03   0 days 00:17:02  -1 days +23:30:59  \n",
       "27     -1 days +23:22:59 0 days 00:40:10   0 days 00:03:09  -1 days +23:22:59  \n",
       "28     -1 days +23:17:30 0 days 00:46:57   0 days 00:04:27  -1 days +23:17:30  \n",
       "30     -1 days +23:32:36 0 days 00:23:43 -1 days +23:56:19  -1 days +23:32:36  \n",
       "...                  ...             ...               ...                ...  \n",
       "407506 -1 days +23:35:46 0 days 01:36:43   0 days 01:12:29  -1 days +23:35:46  \n",
       "407509 -1 days +23:19:36 0 days 01:06:09   0 days 00:25:45  -1 days +23:19:36  \n",
       "407511 -1 days +23:40:43 0 days 00:40:06   0 days 00:20:49  -1 days +23:40:43  \n",
       "407523 -1 days +23:28:40 0 days 01:01:44   0 days 00:30:24  -1 days +23:28:40  \n",
       "407540 -1 days +23:50:17 0 days 00:50:52   0 days 00:41:09  -1 days +23:50:17  \n",
       "\n",
       "[37987 rows x 13 columns]"
      ]
     },
     "execution_count": 117,
     "metadata": {},
     "output_type": "execute_result"
    }
   ],
   "source": [
    "df[df['배차-예정2'].str.contains('-1 days')]"
   ]
  },
  {
   "cell_type": "markdown",
   "id": "d6c56529-7a81-4b6d-87c9-8b20351bcf96",
   "metadata": {},
   "source": [
    "-----------------------"
   ]
  },
  {
   "cell_type": "markdown",
   "id": "1fd2ec59-b770-4730-8530-e1c3e557d7b2",
   "metadata": {},
   "source": [
    "### 시간차이 분 단위 통합"
   ]
  },
  {
   "cell_type": "code",
   "execution_count": null,
   "id": "d0c2dae5-1c11-44b1-8cb2-4bd77ee77876",
   "metadata": {},
   "outputs": [],
   "source": [
    "# for문전에 돌리기\n",
    "df[\"예정시간\"]=pd.to_datetime(df[\"예정시간\"])\n",
    "df[\"배차시간\"]=pd.to_datetime(df[\"배차시간\"])\n",
    "df[\"승차시간\"]=pd.to_datetime(df[\"승차시간\"])"
   ]
  },
  {
   "cell_type": "code",
   "execution_count": 162,
   "id": "663400a0-7a05-437b-9f93-160d684853a3",
   "metadata": {},
   "outputs": [
    {
     "name": "stdout",
     "output_type": "stream",
     "text": [
      "CPU times: user 9.21 s, sys: 20.8 ms, total: 9.23 s\n",
      "Wall time: 9.23 s\n"
     ]
    }
   ],
   "source": [
    "# 1)\n",
    "%%time\n",
    "\n",
    "배차예정_val = []\n",
    "for i in range(len(df)):\n",
    "    time_1 = df['예정시간'][i]\n",
    "    time_2 = df['배차시간'][i]\n",
    "    \n",
    "    if time_2 < time_1: # datetime 끼리 비교 가능  \n",
    "        time_3 = time_2 + datetime.timedelta(hours=23, minutes=60, seconds=60) # datetime + timedelta 가능\n",
    "        time_interval = time_3 - time_1\n",
    "        배차예정_val.append(time_interval)\n",
    "    else:\n",
    "        time_interval = time_2 - time_1\n",
    "        배차예정_val.append(time_interval)"
   ]
  },
  {
   "cell_type": "code",
   "execution_count": 181,
   "id": "f3da9d70-1bd8-4a10-9854-e396fb8860c2",
   "metadata": {},
   "outputs": [
    {
     "name": "stdout",
     "output_type": "stream",
     "text": [
      "CPU times: user 8.89 s, sys: 13.6 ms, total: 8.91 s\n",
      "Wall time: 8.9 s\n"
     ]
    }
   ],
   "source": [
    "# 2) \n",
    "%%time\n",
    "\n",
    "배차예정_val = []\n",
    "for i in range(len(df)):\n",
    "    time_1 = df['예정시간'][i]\n",
    "    time_2 = df['배차시간'][i]\n",
    "    \n",
    "    if time_2 < time_1: # datetime 끼리 비교 가능  \n",
    "        time_interval = time_1 - time_2\n",
    "        배차예정_val.append(time_interval)\n",
    "    else:\n",
    "        time_interval = time_2 - time_1\n",
    "        배차예정_val.append(time_interval)"
   ]
  },
  {
   "cell_type": "code",
   "execution_count": 202,
   "id": "b29f3a3f-3a48-4209-8ba4-3b7d4782e6c1",
   "metadata": {},
   "outputs": [
    {
     "data": {
      "text/plain": [
       "151.0"
      ]
     },
     "execution_count": 202,
     "metadata": {},
     "output_type": "execute_result"
    }
   ],
   "source": [
    "#test- 분변환\n",
    "duration = datetime.timedelta(days = 0, hours=2, minutes=30, seconds=60)\n",
    "seconds = duration.total_seconds()\n",
    "minutes = seconds//60\n",
    "\n",
    "minutes"
   ]
  },
  {
   "cell_type": "code",
   "execution_count": 212,
   "id": "fca15ce3-5568-4682-98b1-a59279edb051",
   "metadata": {},
   "outputs": [
    {
     "name": "stdout",
     "output_type": "stream",
     "text": [
      "CPU times: user 8.91 s, sys: 14 ms, total: 8.93 s\n",
      "Wall time: 8.92 s\n"
     ]
    }
   ],
   "source": [
    "%%time\n",
    "\n",
    "배차예정_val = []\n",
    "\n",
    "for i in range(len(df)):\n",
    "    time_1 = df['예정시간'][i]\n",
    "    time_2 = df['배차시간'][i]\n",
    "    \n",
    "    if time_2 < time_1: # datetime 끼리 비교 가능  \n",
    "        time_interval = time_1 - time_2\n",
    "        \n",
    "        seconds = time_interval.total_seconds()\n",
    "        minutes = -seconds//60\n",
    "\n",
    "        배차예정_val.append(minutes)\n",
    "    else:\n",
    "        time_interval = time_2 - time_1\n",
    "        \n",
    "        seconds = time_interval.total_seconds()\n",
    "        minutes = seconds//60\n",
    "        \n",
    "        배차예정_val.append(minutes)"
   ]
  },
  {
   "cell_type": "code",
   "execution_count": 213,
   "id": "b3cc704e-310f-433c-b9c3-463e6867c05e",
   "metadata": {},
   "outputs": [],
   "source": [
    "df['배차-예정3'] = 배차예정_val"
   ]
  },
  {
   "cell_type": "code",
   "execution_count": 215,
   "id": "48b72209-9a8f-4c01-8e7b-4087290d8f10",
   "metadata": {},
   "outputs": [
    {
     "data": {
      "text/html": [
       "<div>\n",
       "<style scoped>\n",
       "    .dataframe tbody tr th:only-of-type {\n",
       "        vertical-align: middle;\n",
       "    }\n",
       "\n",
       "    .dataframe tbody tr th {\n",
       "        vertical-align: top;\n",
       "    }\n",
       "\n",
       "    .dataframe thead th {\n",
       "        text-align: right;\n",
       "    }\n",
       "</style>\n",
       "<table border=\"1\" class=\"dataframe\">\n",
       "  <thead>\n",
       "    <tr style=\"text-align: right;\">\n",
       "      <th></th>\n",
       "      <th>no</th>\n",
       "      <th>cartype</th>\n",
       "      <th>예정시간</th>\n",
       "      <th>배차시간</th>\n",
       "      <th>승차시간</th>\n",
       "      <th>startpos1</th>\n",
       "      <th>startpos2</th>\n",
       "      <th>endpos1</th>\n",
       "      <th>endpos2</th>\n",
       "      <th>배차-예정</th>\n",
       "      <th>승차-배차</th>\n",
       "      <th>승차-예정</th>\n",
       "      <th>배차-예정2</th>\n",
       "      <th>배차-예정3</th>\n",
       "    </tr>\n",
       "  </thead>\n",
       "  <tbody>\n",
       "    <tr>\n",
       "      <th>0</th>\n",
       "      <td>7658</td>\n",
       "      <td>중형승합</td>\n",
       "      <td>2018-01-23 12:04:00</td>\n",
       "      <td>2018-01-23 12:18:42</td>\n",
       "      <td>2018-01-23 12:34:08</td>\n",
       "      <td>성북구</td>\n",
       "      <td>장위제1동</td>\n",
       "      <td>동대문구</td>\n",
       "      <td>회기동</td>\n",
       "      <td>0 days 00:14:42</td>\n",
       "      <td>0 days 00:15:26</td>\n",
       "      <td>0 days 00:30:08</td>\n",
       "      <td>0 days 00:14:42</td>\n",
       "      <td>14.0</td>\n",
       "    </tr>\n",
       "    <tr>\n",
       "      <th>1</th>\n",
       "      <td>1551</td>\n",
       "      <td>중형승합</td>\n",
       "      <td>2018-01-23 12:17:00</td>\n",
       "      <td>2018-01-23 12:50:37</td>\n",
       "      <td>2018-01-23 01:19:22</td>\n",
       "      <td>중랑구</td>\n",
       "      <td>면목제7동</td>\n",
       "      <td>노원구</td>\n",
       "      <td>상계1동</td>\n",
       "      <td>0 days 00:33:37</td>\n",
       "      <td>-1 days +12:28:45</td>\n",
       "      <td>-1 days +13:02:22</td>\n",
       "      <td>0 days 00:33:37</td>\n",
       "      <td>33.0</td>\n",
       "    </tr>\n",
       "    <tr>\n",
       "      <th>2</th>\n",
       "      <td>5804</td>\n",
       "      <td>중형승합</td>\n",
       "      <td>2018-01-23 12:30:00</td>\n",
       "      <td>2018-01-23 12:17:06</td>\n",
       "      <td>2018-01-23 12:17:39</td>\n",
       "      <td>성북구</td>\n",
       "      <td>정릉제3동</td>\n",
       "      <td>강북구</td>\n",
       "      <td>수유제3동</td>\n",
       "      <td>-1 days +23:47:06</td>\n",
       "      <td>0 days 00:00:33</td>\n",
       "      <td>-1 days +23:47:39</td>\n",
       "      <td>-1 days +23:47:06</td>\n",
       "      <td>-13.0</td>\n",
       "    </tr>\n",
       "    <tr>\n",
       "      <th>3</th>\n",
       "      <td>7650</td>\n",
       "      <td>중형승합</td>\n",
       "      <td>2018-01-23 12:47:00</td>\n",
       "      <td>2018-01-23 12:51:19</td>\n",
       "      <td>2018-01-23 01:09:33</td>\n",
       "      <td>구로구</td>\n",
       "      <td>고척제2동</td>\n",
       "      <td>관악구</td>\n",
       "      <td>은천동</td>\n",
       "      <td>0 days 00:04:19</td>\n",
       "      <td>-1 days +12:18:14</td>\n",
       "      <td>-1 days +12:22:33</td>\n",
       "      <td>0 days 00:04:19</td>\n",
       "      <td>4.0</td>\n",
       "    </tr>\n",
       "    <tr>\n",
       "      <th>4</th>\n",
       "      <td>1061</td>\n",
       "      <td>중형승합</td>\n",
       "      <td>2018-01-23 01:08:00</td>\n",
       "      <td>2018-01-23 01:44:17</td>\n",
       "      <td>2018-01-23 02:06:53</td>\n",
       "      <td>동대문구</td>\n",
       "      <td>회기동</td>\n",
       "      <td>성북구</td>\n",
       "      <td>장위제2동</td>\n",
       "      <td>0 days 00:36:17</td>\n",
       "      <td>0 days 00:22:36</td>\n",
       "      <td>0 days 00:58:53</td>\n",
       "      <td>0 days 00:36:17</td>\n",
       "      <td>36.0</td>\n",
       "    </tr>\n",
       "    <tr>\n",
       "      <th>...</th>\n",
       "      <td>...</td>\n",
       "      <td>...</td>\n",
       "      <td>...</td>\n",
       "      <td>...</td>\n",
       "      <td>...</td>\n",
       "      <td>...</td>\n",
       "      <td>...</td>\n",
       "      <td>...</td>\n",
       "      <td>...</td>\n",
       "      <td>...</td>\n",
       "      <td>...</td>\n",
       "      <td>...</td>\n",
       "      <td>...</td>\n",
       "      <td>...</td>\n",
       "    </tr>\n",
       "    <tr>\n",
       "      <th>407548</th>\n",
       "      <td>8579</td>\n",
       "      <td>대형승용</td>\n",
       "      <td>2022-06-24 07:00:00</td>\n",
       "      <td>2022-06-24 07:12:38</td>\n",
       "      <td>2022-06-24 07:55:24</td>\n",
       "      <td>성북구</td>\n",
       "      <td>돈암제2동</td>\n",
       "      <td>강남구</td>\n",
       "      <td>대치4동</td>\n",
       "      <td>0 days 00:12:38</td>\n",
       "      <td>0 days 00:42:46</td>\n",
       "      <td>0 days 00:55:24</td>\n",
       "      <td>0 days 00:12:38</td>\n",
       "      <td>12.0</td>\n",
       "    </tr>\n",
       "    <tr>\n",
       "      <th>407549</th>\n",
       "      <td>8006</td>\n",
       "      <td>중형승합</td>\n",
       "      <td>2022-06-24 07:00:00</td>\n",
       "      <td>2022-06-24 07:09:10</td>\n",
       "      <td>2022-06-24 07:25:35</td>\n",
       "      <td>은평구</td>\n",
       "      <td>구산동</td>\n",
       "      <td>은평구</td>\n",
       "      <td>구산동</td>\n",
       "      <td>0 days 00:09:10</td>\n",
       "      <td>0 days 00:16:25</td>\n",
       "      <td>0 days 00:25:35</td>\n",
       "      <td>0 days 00:09:10</td>\n",
       "      <td>9.0</td>\n",
       "    </tr>\n",
       "    <tr>\n",
       "      <th>407550</th>\n",
       "      <td>8261</td>\n",
       "      <td>중형승합</td>\n",
       "      <td>2022-06-24 07:00:00</td>\n",
       "      <td>2022-06-24 07:04:27</td>\n",
       "      <td>2022-06-24 07:25:35</td>\n",
       "      <td>노원구</td>\n",
       "      <td>상계8동</td>\n",
       "      <td>영등포구</td>\n",
       "      <td>영등포동</td>\n",
       "      <td>0 days 00:04:27</td>\n",
       "      <td>0 days 00:21:08</td>\n",
       "      <td>0 days 00:25:35</td>\n",
       "      <td>0 days 00:04:27</td>\n",
       "      <td>4.0</td>\n",
       "    </tr>\n",
       "    <tr>\n",
       "      <th>407551</th>\n",
       "      <td>1558</td>\n",
       "      <td>중형승합</td>\n",
       "      <td>2022-06-24 07:00:00</td>\n",
       "      <td>2022-06-24 08:06:22</td>\n",
       "      <td>2022-06-24 06:55:01</td>\n",
       "      <td>성북구</td>\n",
       "      <td>길음제1동</td>\n",
       "      <td>강북구</td>\n",
       "      <td>번제1동</td>\n",
       "      <td>0 days 01:06:22</td>\n",
       "      <td>-1 days +22:48:39</td>\n",
       "      <td>-1 days +23:55:01</td>\n",
       "      <td>0 days 01:06:22</td>\n",
       "      <td>66.0</td>\n",
       "    </tr>\n",
       "    <tr>\n",
       "      <th>407552</th>\n",
       "      <td>5725</td>\n",
       "      <td>중형승합</td>\n",
       "      <td>2022-06-24 07:00:00</td>\n",
       "      <td>2022-06-24 07:05:08</td>\n",
       "      <td>2022-06-24 08:31:07</td>\n",
       "      <td>강동구</td>\n",
       "      <td>천호제2동</td>\n",
       "      <td>강동구</td>\n",
       "      <td>명일제1동</td>\n",
       "      <td>0 days 00:05:08</td>\n",
       "      <td>0 days 01:25:59</td>\n",
       "      <td>0 days 01:31:07</td>\n",
       "      <td>0 days 00:05:08</td>\n",
       "      <td>5.0</td>\n",
       "    </tr>\n",
       "  </tbody>\n",
       "</table>\n",
       "<p>407553 rows × 14 columns</p>\n",
       "</div>"
      ],
      "text/plain": [
       "          no cartype                예정시간                배차시간  \\\n",
       "0       7658    중형승합 2018-01-23 12:04:00 2018-01-23 12:18:42   \n",
       "1       1551    중형승합 2018-01-23 12:17:00 2018-01-23 12:50:37   \n",
       "2       5804    중형승합 2018-01-23 12:30:00 2018-01-23 12:17:06   \n",
       "3       7650    중형승합 2018-01-23 12:47:00 2018-01-23 12:51:19   \n",
       "4       1061    중형승합 2018-01-23 01:08:00 2018-01-23 01:44:17   \n",
       "...      ...     ...                 ...                 ...   \n",
       "407548  8579    대형승용 2022-06-24 07:00:00 2022-06-24 07:12:38   \n",
       "407549  8006    중형승합 2022-06-24 07:00:00 2022-06-24 07:09:10   \n",
       "407550  8261    중형승합 2022-06-24 07:00:00 2022-06-24 07:04:27   \n",
       "407551  1558    중형승합 2022-06-24 07:00:00 2022-06-24 08:06:22   \n",
       "407552  5725    중형승합 2022-06-24 07:00:00 2022-06-24 07:05:08   \n",
       "\n",
       "                      승차시간 startpos1 startpos2 endpos1 endpos2  \\\n",
       "0      2018-01-23 12:34:08       성북구     장위제1동    동대문구     회기동   \n",
       "1      2018-01-23 01:19:22       중랑구     면목제7동     노원구    상계1동   \n",
       "2      2018-01-23 12:17:39       성북구     정릉제3동     강북구   수유제3동   \n",
       "3      2018-01-23 01:09:33       구로구     고척제2동     관악구     은천동   \n",
       "4      2018-01-23 02:06:53      동대문구       회기동     성북구   장위제2동   \n",
       "...                    ...       ...       ...     ...     ...   \n",
       "407548 2022-06-24 07:55:24       성북구     돈암제2동     강남구    대치4동   \n",
       "407549 2022-06-24 07:25:35       은평구       구산동     은평구     구산동   \n",
       "407550 2022-06-24 07:25:35       노원구      상계8동    영등포구    영등포동   \n",
       "407551 2022-06-24 06:55:01       성북구     길음제1동     강북구    번제1동   \n",
       "407552 2022-06-24 08:31:07       강동구     천호제2동     강동구   명일제1동   \n",
       "\n",
       "                   배차-예정             승차-배차             승차-예정  \\\n",
       "0        0 days 00:14:42   0 days 00:15:26   0 days 00:30:08   \n",
       "1        0 days 00:33:37 -1 days +12:28:45 -1 days +13:02:22   \n",
       "2      -1 days +23:47:06   0 days 00:00:33 -1 days +23:47:39   \n",
       "3        0 days 00:04:19 -1 days +12:18:14 -1 days +12:22:33   \n",
       "4        0 days 00:36:17   0 days 00:22:36   0 days 00:58:53   \n",
       "...                  ...               ...               ...   \n",
       "407548   0 days 00:12:38   0 days 00:42:46   0 days 00:55:24   \n",
       "407549   0 days 00:09:10   0 days 00:16:25   0 days 00:25:35   \n",
       "407550   0 days 00:04:27   0 days 00:21:08   0 days 00:25:35   \n",
       "407551   0 days 01:06:22 -1 days +22:48:39 -1 days +23:55:01   \n",
       "407552   0 days 00:05:08   0 days 01:25:59   0 days 01:31:07   \n",
       "\n",
       "                   배차-예정2  배차-예정3  \n",
       "0         0 days 00:14:42    14.0  \n",
       "1         0 days 00:33:37    33.0  \n",
       "2       -1 days +23:47:06   -13.0  \n",
       "3         0 days 00:04:19     4.0  \n",
       "4         0 days 00:36:17    36.0  \n",
       "...                   ...     ...  \n",
       "407548    0 days 00:12:38    12.0  \n",
       "407549    0 days 00:09:10     9.0  \n",
       "407550    0 days 00:04:27     4.0  \n",
       "407551    0 days 01:06:22    66.0  \n",
       "407552    0 days 00:05:08     5.0  \n",
       "\n",
       "[407553 rows x 14 columns]"
      ]
     },
     "execution_count": 215,
     "metadata": {},
     "output_type": "execute_result"
    }
   ],
   "source": [
    "df"
   ]
  },
  {
   "cell_type": "markdown",
   "id": "b554893c-383e-469f-a34d-e444efe49034",
   "metadata": {},
   "source": [
    "'배차-예정' 마이너스 값 + 분단위 통합 성공 -> 이제 나머지 '승차-배차','승차-예정'도 통합시켜주자"
   ]
  },
  {
   "cell_type": "code",
   "execution_count": null,
   "id": "a4eb91c7-e18b-485e-aefe-102ac9d15017",
   "metadata": {},
   "outputs": [],
   "source": []
  },
  {
   "cell_type": "code",
   "execution_count": null,
   "id": "413d8fe1-11fb-4c4e-93a2-d4fb8947f485",
   "metadata": {},
   "outputs": [],
   "source": []
  },
  {
   "cell_type": "code",
   "execution_count": null,
   "id": "db69171d-ad71-4590-bdfc-dbf38db29c4b",
   "metadata": {},
   "outputs": [],
   "source": []
  },
  {
   "cell_type": "code",
   "execution_count": null,
   "id": "c2007f6c-717d-4758-b6b5-9eb51bc975b0",
   "metadata": {},
   "outputs": [],
   "source": []
  },
  {
   "cell_type": "code",
   "execution_count": null,
   "id": "0b5c328c-d571-4c13-9efe-b0fa08d455ae",
   "metadata": {},
   "outputs": [],
   "source": []
  },
  {
   "cell_type": "code",
   "execution_count": 151,
   "id": "abb8995a-9694-4857-81bc-9be34475f7f6",
   "metadata": {},
   "outputs": [
    {
     "name": "stdout",
     "output_type": "stream",
     "text": [
      "1996-10-08 12:04:00\n"
     ]
    }
   ],
   "source": [
    "day = df[\"예정시간\"].iloc[0]\n",
    "day_before_7777 = day - datetime.timedelta(days=7777)\n",
    "print(day_before_7777)  # 1980-10-18 00:00:00"
   ]
  },
  {
   "cell_type": "code",
   "execution_count": 150,
   "id": "500fe3ab-0ed3-430c-94d8-aca81a7c1b61",
   "metadata": {},
   "outputs": [
    {
     "name": "stdout",
     "output_type": "stream",
     "text": [
      "1980-10-18 00:00:00\n"
     ]
    }
   ],
   "source": [
    "day = datetime.datetime(2002,2,2)\n",
    "day_before_7777 = day - datetime.timedelta(days=7777)\n",
    "print(day_before_7777)  # 1980-10-18 00:00:00"
   ]
  },
  {
   "cell_type": "code",
   "execution_count": null,
   "id": "6b65d44e-39ec-4672-a526-1fe470b87f9e",
   "metadata": {},
   "outputs": [],
   "source": []
  },
  {
   "cell_type": "code",
   "execution_count": null,
   "id": "769d5646-0c3e-4d25-9d88-4881f60a7f1d",
   "metadata": {},
   "outputs": [],
   "source": []
  },
  {
   "cell_type": "code",
   "execution_count": null,
   "id": "17eb9a9e-b04d-4084-b606-697662078423",
   "metadata": {},
   "outputs": [],
   "source": []
  },
  {
   "cell_type": "code",
   "execution_count": null,
   "id": "fe1f257a-a770-49fc-976f-bba27a9c5a9f",
   "metadata": {},
   "outputs": [],
   "source": []
  },
  {
   "cell_type": "markdown",
   "id": "a52aa0f4-9356-4b21-958d-2432c4eaa28a",
   "metadata": {},
   "source": [
    " ## 2. 좌표(위도,경도) 칼럼생성"
   ]
  },
  {
   "cell_type": "markdown",
   "id": "fae89278-7c0a-4e07-b5e8-53f526dc6f02",
   "metadata": {},
   "source": [
    "## 3. 좌표간 거리 칼럼 생성"
   ]
  },
  {
   "cell_type": "code",
   "execution_count": null,
   "id": "4cd787cf-e41a-4621-86e9-3a9e6f80e27b",
   "metadata": {},
   "outputs": [],
   "source": []
  }
 ],
 "metadata": {
  "kernelspec": {
   "display_name": "Python 3 (ipykernel)",
   "language": "python",
   "name": "python3"
  },
  "language_info": {
   "codemirror_mode": {
    "name": "ipython",
    "version": 3
   },
   "file_extension": ".py",
   "mimetype": "text/x-python",
   "name": "python",
   "nbconvert_exporter": "python",
   "pygments_lexer": "ipython3",
   "version": "3.9.12"
  }
 },
 "nbformat": 4,
 "nbformat_minor": 5
}
