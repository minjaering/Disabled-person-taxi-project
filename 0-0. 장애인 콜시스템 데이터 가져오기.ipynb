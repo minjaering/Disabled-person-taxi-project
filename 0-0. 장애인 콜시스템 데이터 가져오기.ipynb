{
 "cells": [
  {
   "cell_type": "code",
   "execution_count": 3,
   "id": "01483655-c733-4d9f-9c1b-33882ab4fa6d",
   "metadata": {},
   "outputs": [],
   "source": [
    "import pandas as pd\n",
    "from os import name\n",
    "import xml.etree.ElementTree as et\n",
    "from bs4 import BeautifulSoup as bs\n",
    "from lxml import html ##BeautifulSoup 파싱도구를 더 잘 활용하기 위해 lxml설치\n",
    "from urllib.parse import urlencode, quote_plus, unquote\n",
    "import requests "
   ]
  },
  {
   "cell_type": "markdown",
   "id": "8794aee7-16ca-4d8c-b632-b90cb975c862",
   "metadata": {
    "tags": []
   },
   "source": [
    "## 장애인콜시스템 데이터 가져오기\n",
    "- http://data.seoul.go.kr/dataList/OA-15558/A/1/datasetView.do \n",
    "- 참고 깃허브 : https://github.com/eeuunnzzyy/eeuunnzzyy/blob/main/The%20Transportation%20Vulnerable%20Project/Public%20Data%20in%20OPEN%20API%20to%20DataFrame%20and%20csv.ipynb"
   ]
  },
  {
   "cell_type": "code",
   "execution_count": null,
   "id": "af382373-cc7d-4c83-ba73-00caed710efe",
   "metadata": {},
   "outputs": [],
   "source": []
  },
  {
   "cell_type": "code",
   "execution_count": null,
   "id": "ccfe699f-c5a8-40b8-ba59-7630b5c5fc99",
   "metadata": {},
   "outputs": [],
   "source": []
  },
  {
   "cell_type": "code",
   "execution_count": null,
   "id": "bec82232-eb69-4723-9d78-62c23a323de2",
   "metadata": {},
   "outputs": [],
   "source": []
  }
 ],
 "metadata": {
  "kernelspec": {
   "display_name": "Python 3 (ipykernel)",
   "language": "python",
   "name": "python3"
  },
  "language_info": {
   "codemirror_mode": {
    "name": "ipython",
    "version": 3
   },
   "file_extension": ".py",
   "mimetype": "text/x-python",
   "name": "python",
   "nbconvert_exporter": "python",
   "pygments_lexer": "ipython3",
   "version": "3.9.12"
  }
 },
 "nbformat": 4,
 "nbformat_minor": 5
}
